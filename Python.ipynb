{
 "cells": [
  {
   "cell_type": "markdown",
   "metadata": {},
   "source": [
    "# Python 学习Notebook"
   ]
  },
  {
   "cell_type": "markdown",
   "metadata": {},
   "source": [
    "## 1. UTF-8"
   ]
  },
  {
   "cell_type": "markdown",
   "metadata": {},
   "source": [
    "python默认编码格式为ASCII，无法正确打印汉字，需要在头部指定编码\n",
    "\n",
    "python3.x文件默认使用utf-8编码，无需指定"
   ]
  },
  {
   "cell_type": "code",
   "execution_count": 4,
   "metadata": {},
   "outputs": [
    {
     "name": "stdout",
     "output_type": "stream",
     "text": [
      "学习\n"
     ]
    }
   ],
   "source": [
    "# -*- coding: UTF-8 -*-\n",
    "print('学习')"
   ]
  },
  {
   "cell_type": "markdown",
   "metadata": {},
   "source": [
    "## 2. 标准数据类型"
   ]
  },
  {
   "cell_type": "markdown",
   "metadata": {},
   "source": [
    "1. 数字（numbers）\n",
    "2. 字符串（string）\n",
    "3. 列表（list）\n",
    "4. 元组（tuple）\n",
    "5. 集合（set）\n",
    "5. 字典（dictionary）"
   ]
  },
  {
   "cell_type": "markdown",
   "metadata": {},
   "source": [
    "### 2.1 数字"
   ]
  },
  {
   "cell_type": "markdown",
   "metadata": {},
   "source": [
    "#### 2.1.1 基本类型"
   ]
  },
  {
   "cell_type": "code",
   "execution_count": 4,
   "metadata": {},
   "outputs": [
    {
     "data": {
      "text/plain": [
       "1"
      ]
     },
     "execution_count": 4,
     "metadata": {},
     "output_type": "execute_result"
    }
   ],
   "source": [
    "num1 = 1    # int（有符号整型）\n",
    "num2 = 1.0  # float（浮点型）\n",
    "num3 = True # bool\n",
    "num4 = 1j   # complex（复数）\n",
    "\n",
    "a,b = 1,2  # 同时为多个变量赋值\n",
    "a = b = 1  # 给两个变量赋相同的值\n",
    "a"
   ]
  },
  {
   "cell_type": "markdown",
   "metadata": {},
   "source": [
    "- 注意bool型变量可以和数字相加（值为0和1）\n",
    "- int类型无大小范围（理论上可以无限大）\n",
    "- float类型最小值为2.2250738585072014e-308，最大值为1.7976931348623157e+308"
   ]
  },
  {
   "cell_type": "markdown",
   "metadata": {},
   "source": [
    "#### 2.1.2 类型转换"
   ]
  },
  {
   "cell_type": "code",
   "execution_count": 23,
   "metadata": {
    "scrolled": true
   },
   "outputs": [
    {
     "data": {
      "text/plain": [
       "10"
      ]
     },
     "execution_count": 23,
     "metadata": {},
     "output_type": "execute_result"
    }
   ],
   "source": [
    "float(10)\n",
    "int(10.0)"
   ]
  },
  {
   "cell_type": "markdown",
   "metadata": {},
   "source": [
    "#### 2.1.3 数字运算"
   ]
  },
  {
   "cell_type": "code",
   "execution_count": 26,
   "metadata": {},
   "outputs": [
    {
     "data": {
      "text/plain": [
       "1.0"
      ]
     },
     "execution_count": 26,
     "metadata": {},
     "output_type": "execute_result"
    }
   ],
   "source": [
    "18 / 3    # 除法（注意整数除法得到的是浮点数）\n",
    "17 % 3    # 取余\n",
    "2**3      # 乘方\n",
    "11//3     # 整除\n",
    "1*2-1.0   # 不同类型数共同进行运算时会将整数转换为浮点数"
   ]
  },
  {
   "cell_type": "markdown",
   "metadata": {},
   "source": [
    "#### 2.1.4 常用函数"
   ]
  },
  {
   "cell_type": "code",
   "execution_count": 50,
   "metadata": {},
   "outputs": [
    {
     "data": {
      "text/plain": [
       "0.8939966636005579"
      ]
     },
     "execution_count": 50,
     "metadata": {},
     "output_type": "execute_result"
    }
   ],
   "source": [
    "import math\n",
    "import random\n",
    "abs(-1.0)             # 绝对值\n",
    "math.exp(1.0)         # e的x次幂\n",
    "math.log(math.e)      # 自然对数     \n",
    "round(2.16, 1)        # 四舍五入\n",
    "math.floor(4.6)       # 下舍整数\n",
    "math.ceil(4.6)        # 上入整数\n",
    "math.sqrt(4)          # 平方根\n",
    "math.pi               # 圆周率\n",
    "random.random()       # 生成一个在0-1范围内的随机数\n",
    "random.uniform(1,2)   # 生成一个在1-2范围内的随机数\n",
    "math.sin(math.pi/2)   # 正弦函数（注意是弧度制）"
   ]
  },
  {
   "cell_type": "markdown",
   "metadata": {},
   "source": [
    "### 2.2 字符串"
   ]
  },
  {
   "cell_type": "markdown",
   "metadata": {},
   "source": [
    "Python字符串是**不可变**类型，不能向字符串的一个索引位置赋值"
   ]
  },
  {
   "cell_type": "code",
   "execution_count": 14,
   "metadata": {},
   "outputs": [
    {
     "ename": "TypeError",
     "evalue": "'str' object does not support item assignment",
     "output_type": "error",
     "traceback": [
      "\u001b[1;31m---------------------------------------------------------------------------\u001b[0m",
      "\u001b[1;31mTypeError\u001b[0m                                 Traceback (most recent call last)",
      "\u001b[1;32m<ipython-input-14-dcec3259a8e7>\u001b[0m in \u001b[0;36m<module>\u001b[1;34m\u001b[0m\n\u001b[0;32m      1\u001b[0m \u001b[0ms\u001b[0m \u001b[1;33m=\u001b[0m \u001b[1;34m'123'\u001b[0m\u001b[1;33m\u001b[0m\u001b[1;33m\u001b[0m\u001b[0m\n\u001b[1;32m----> 2\u001b[1;33m \u001b[0ms\u001b[0m\u001b[1;33m[\u001b[0m\u001b[1;36m0\u001b[0m\u001b[1;33m]\u001b[0m \u001b[1;33m=\u001b[0m \u001b[1;34m'0'\u001b[0m\u001b[1;33m\u001b[0m\u001b[1;33m\u001b[0m\u001b[0m\n\u001b[0m",
      "\u001b[1;31mTypeError\u001b[0m: 'str' object does not support item assignment"
     ]
    }
   ],
   "source": [
    "s = '123'\n",
    "s[0] = '0'"
   ]
  },
  {
   "cell_type": "markdown",
   "metadata": {},
   "source": [
    "#### 2.2.1 基本操作"
   ]
  },
  {
   "cell_type": "code",
   "execution_count": 12,
   "metadata": {},
   "outputs": [
    {
     "data": {
      "text/plain": [
       "'1'"
      ]
     },
     "execution_count": 12,
     "metadata": {},
     "output_type": "execute_result"
    }
   ],
   "source": [
    "s = 'abcd'\n",
    "s[1:3]         # 取索引1-2的字符串\n",
    "s[:3]          # 取从字符串开头到索引2的字符串\n",
    "s[1:]          # 取从索引1到字符串结尾的字符串\n",
    "s[1:-1]        # 取从索引1到字符串倒数第二个元素的字符串\n",
    "s[-3:-1]       # 取字符串倒数第三个元素到倒数第二个元素（不包括-1）\n",
    "s+'e'          # 在字符串末尾增加元素'e'\n",
    "str(1)         # 数字转换为字符串"
   ]
  },
  {
   "cell_type": "code",
   "execution_count": 6,
   "metadata": {},
   "outputs": [
    {
     "data": {
      "text/plain": [
       "3"
      ]
     },
     "execution_count": 6,
     "metadata": {},
     "output_type": "execute_result"
    }
   ],
   "source": [
    "1+\\\n",
    "2               # 反斜杠作为换行符"
   ]
  },
  {
   "cell_type": "markdown",
   "metadata": {},
   "source": [
    "#### 2.2.2 常用函数"
   ]
  },
  {
   "cell_type": "code",
   "execution_count": 4,
   "metadata": {},
   "outputs": [
    {
     "data": {
      "text/plain": [
       "0"
      ]
     },
     "execution_count": 4,
     "metadata": {},
     "output_type": "execute_result"
    }
   ],
   "source": [
    "s = 'aabbcC'\n",
    "len(s)                # 求字符串长度\n",
    "s.count('aa')         # 统计一个字符串在给定字符串\n",
    "ord('a')              # 求一个ASCII字符的ASCII值\n",
    "chr(97)               # 返回一个整数对应的ASCII字符\n",
    "s.lower()             # 将字符串中所有字符转换为小写\n",
    "s.upper()             # 将字符串中所有字符转换为大写\n",
    "s.replace('a', 'd')   # 将字符串中所有'a'替换为'd'\n",
    "s1 = ''\n",
    "s2 = ['a','b','c']\n",
    "s1.join(s2)           # 使用s1作为间隔符，连接字符串序列为一个新字符串\n",
    "s = 'abc'\n",
    "s.isdigit()          # 判断字符串是否只包含数字\n",
    "s.islower()          # 若字符串中包含至少一个区分大小写的字符，且所有这些字符都是小写则返回True\n",
    "s.find('a')          # 判断字符串是否包含字符'a'\n"
   ]
  },
  {
   "cell_type": "markdown",
   "metadata": {},
   "source": [
    "- **字符串类型转换**"
   ]
  },
  {
   "cell_type": "code",
   "execution_count": 5,
   "metadata": {},
   "outputs": [
    {
     "data": {
      "text/plain": [
       "'1'"
      ]
     },
     "execution_count": 5,
     "metadata": {},
     "output_type": "execute_result"
    }
   ],
   "source": [
    "s1 = 'abc'\n",
    "l = list(s1)      # 字符串转列表\n",
    "s2 = ''.join(l)   # 列表转字符串（这里是以空字符作为连接，可以使用其他字符）\n",
    "int('1')          # 字符串转数字\n",
    "str(1)            # 数字转字符串"
   ]
  },
  {
   "cell_type": "markdown",
   "metadata": {},
   "source": [
    "- **分割字符串**"
   ]
  },
  {
   "cell_type": "code",
   "execution_count": 18,
   "metadata": {},
   "outputs": [
    {
     "data": {
      "text/plain": [
       "['a', 'b', 'c']"
      ]
     },
     "execution_count": 18,
     "metadata": {},
     "output_type": "execute_result"
    }
   ],
   "source": [
    "s = 'hello world'\n",
    "s.split()         # 默认以空字符作为划分\n",
    "s = 'abc'\n",
    "list(s)           # 将字符串转换为列表"
   ]
  },
  {
   "cell_type": "markdown",
   "metadata": {},
   "source": [
    "### 2.3 列表"
   ]
  },
  {
   "cell_type": "markdown",
   "metadata": {},
   "source": [
    "#### 2.3.1 基本操作"
   ]
  },
  {
   "cell_type": "markdown",
   "metadata": {},
   "source": [
    "列表的选取操作与字符串相同，利用索引"
   ]
  },
  {
   "cell_type": "code",
   "execution_count": 24,
   "metadata": {
    "scrolled": true
   },
   "outputs": [
    {
     "data": {
      "text/plain": [
       "[2, 3, 4, 5, 6]"
      ]
     },
     "execution_count": 24,
     "metadata": {},
     "output_type": "execute_result"
    }
   ],
   "source": [
    "l = [1,2,3,4]\n",
    "l += [5,6]          # 在列表末尾增加元素5，6（列表间操作）\n",
    "del l[0]            # 删除索引为0的元素\n",
    "#l *= 2              # 将列表重复两次\n",
    "l[1:3]              # 选择索引为1-2的元素\n",
    "l[1:5:2]            # 以步长2选择索引在1-4之间的元素\n",
    "l[-1]               # l的最后一个元素\n",
    "l[-1::-1]           # 从后往前读元素（从-1即列表末尾开始，后一个-1表示以-1步长即从后向前读取）"
   ]
  },
  {
   "cell_type": "markdown",
   "metadata": {},
   "source": [
    "- **列表切片**    \n",
    "\\[start:end:step\\]<br />\n",
    "start：起始索引，从0开始，-1表示结束  \n",
    "end: 结束索引  \n",
    "step：步长，大于0时从左向右取值；小于0时反向取值  \n",
    "\n",
    "\n"
   ]
  },
  {
   "cell_type": "markdown",
   "metadata": {},
   "source": [
    "#### 2.3.2 列表方法"
   ]
  },
  {
   "cell_type": "code",
   "execution_count": 2,
   "metadata": {},
   "outputs": [
    {
     "data": {
      "text/plain": [
       "[3, 4, 2, 1]"
      ]
     },
     "execution_count": 2,
     "metadata": {},
     "output_type": "execute_result"
    }
   ],
   "source": [
    "l = [1,2,3,4]\n",
    "l.count(1)            # 计算元素1在列表中出现的次数\n",
    "l.pop()               # 移除列表中的最后一个元素（可指定index），并返回其值\n",
    "l.sort()              # 对列表进行排序（默认升序，由reverse参数控制）   \n",
    "l.reverse()           # 反转列表\n",
    "l*2                   # 重复列表*2\n",
    "l.insert(1,4)         # 在索引1位置插入元素4\n",
    "l"
   ]
  },
  {
   "cell_type": "markdown",
   "metadata": {},
   "source": [
    "sort函数也可以对字符串列表按首字母进行排序"
   ]
  },
  {
   "cell_type": "code",
   "execution_count": 17,
   "metadata": {},
   "outputs": [
    {
     "data": {
      "text/plain": [
       "['ab', 'ba', 'cd']"
      ]
     },
     "execution_count": 17,
     "metadata": {},
     "output_type": "execute_result"
    }
   ],
   "source": [
    "l = ['ba','cd','ab']\n",
    "l.sort()\n",
    "l"
   ]
  },
  {
   "cell_type": "markdown",
   "metadata": {},
   "source": [
    "- **复制列表**"
   ]
  },
  {
   "cell_type": "code",
   "execution_count": 3,
   "metadata": {},
   "outputs": [
    {
     "data": {
      "text/plain": [
       "[2, 2, 3]"
      ]
     },
     "execution_count": 3,
     "metadata": {},
     "output_type": "execute_result"
    }
   ],
   "source": [
    "# 第一种复制，赋值引用，指向同一个变量\n",
    "a = [1,2,3]\n",
    "b = a\n",
    "a[0] = 2\n",
    "b               # a改变的同时b也改变"
   ]
  },
  {
   "cell_type": "code",
   "execution_count": 6,
   "metadata": {},
   "outputs": [
    {
     "data": {
      "text/plain": [
       "[1, 2, 3]"
      ]
     },
     "execution_count": 6,
     "metadata": {},
     "output_type": "execute_result"
    }
   ],
   "source": [
    "# 第二种复制，浅拷贝，两者是独立的对象，但子对象仍然是引用\n",
    "a = [1,2,3]\n",
    "b = a.copy()\n",
    "a.append(4)\n",
    "b"
   ]
  },
  {
   "cell_type": "code",
   "execution_count": 13,
   "metadata": {},
   "outputs": [
    {
     "data": {
      "text/plain": [
       "[1, 2, [3, 4, 5]]"
      ]
     },
     "execution_count": 13,
     "metadata": {},
     "output_type": "execute_result"
    }
   ],
   "source": [
    "a = [1,2,[3,4]]\n",
    "b = a.copy()\n",
    "a[2].append(5)\n",
    "b"
   ]
  },
  {
   "cell_type": "code",
   "execution_count": 15,
   "metadata": {},
   "outputs": [
    {
     "data": {
      "text/plain": [
       "[1, 2, [3, 4]]"
      ]
     },
     "execution_count": 15,
     "metadata": {},
     "output_type": "execute_result"
    }
   ],
   "source": [
    "# 第三种复制，深拷贝，子对象也是独立的对象\n",
    "import copy\n",
    "a = [1,2,[3,4]]\n",
    "b = copy.deepcopy(a)\n",
    "a[2].append(5)\n",
    "b"
   ]
  },
  {
   "cell_type": "markdown",
   "metadata": {},
   "source": [
    "- **创建二维列表**"
   ]
  },
  {
   "cell_type": "code",
   "execution_count": 17,
   "metadata": {},
   "outputs": [
    {
     "data": {
      "text/plain": [
       "[[0, 0], [0, 0], [0, 0]]"
      ]
     },
     "execution_count": 17,
     "metadata": {},
     "output_type": "execute_result"
    }
   ],
   "source": [
    "m, n = 3, 2\n",
    "[[0 for col in range(n)] for row in range(m)]  # 3*2 "
   ]
  },
  {
   "cell_type": "markdown",
   "metadata": {},
   "source": [
    "- **列表推导式**   \n",
    "[表达式 for x in 列表 (if 条件)]"
   ]
  },
  {
   "cell_type": "code",
   "execution_count": 18,
   "metadata": {},
   "outputs": [
    {
     "data": {
      "text/plain": [
       "[4, 9]"
      ]
     },
     "execution_count": 18,
     "metadata": {},
     "output_type": "execute_result"
    }
   ],
   "source": [
    "num = [1,2,3]\n",
    "[x**2 for x in num if x>1]"
   ]
  },
  {
   "cell_type": "markdown",
   "metadata": {},
   "source": [
    "- **更新列表**"
   ]
  },
  {
   "cell_type": "code",
   "execution_count": 27,
   "metadata": {},
   "outputs": [
    {
     "data": {
      "text/plain": [
       "[1, 2, 0, 3, 4, 5, 6]"
      ]
     },
     "execution_count": 27,
     "metadata": {},
     "output_type": "execute_result"
    }
   ],
   "source": [
    "num = [1,2,3]\n",
    "num.append(4)         # 向列表末尾添加新对象，但只能添加num[-1]\n",
    "num.extend([5,6])     # 向列表末尾添加列表以扩展列表（等价于num+=[5,6]）\n",
    "num.insert(2,0)       # 向列表索引2位置添加元素0\n",
    "num"
   ]
  },
  {
   "cell_type": "markdown",
   "metadata": {},
   "source": [
    "- **删除列表元素**"
   ]
  },
  {
   "cell_type": "code",
   "execution_count": 37,
   "metadata": {},
   "outputs": [
    {
     "data": {
      "text/plain": [
       "[3]"
      ]
     },
     "execution_count": 37,
     "metadata": {},
     "output_type": "execute_result"
    }
   ],
   "source": [
    "num = [1,2,3,4]\n",
    "num.pop()             # 移除列表末尾元素\n",
    "del num[0]            # 移除列表第一个元素\n",
    "num.remove(2)         # 移除列表中第一个值为2的匹配项\n",
    "num"
   ]
  },
  {
   "cell_type": "markdown",
   "metadata": {},
   "source": [
    "- **求二维列表某列最大值**"
   ]
  },
  {
   "cell_type": "code",
   "execution_count": 65,
   "metadata": {},
   "outputs": [
    {
     "data": {
      "text/plain": [
       "3"
      ]
     },
     "execution_count": 65,
     "metadata": {},
     "output_type": "execute_result"
    }
   ],
   "source": [
    "nums = [[1,2],[3,4]]\n",
    "max(list(map(lambda x: x[0], nums)))"
   ]
  },
  {
   "cell_type": "markdown",
   "metadata": {},
   "source": [
    "### 2.4 元组"
   ]
  },
  {
   "cell_type": "markdown",
   "metadata": {},
   "source": [
    "元组不允许更新元素（可以增加元素）"
   ]
  },
  {
   "cell_type": "code",
   "execution_count": 26,
   "metadata": {},
   "outputs": [
    {
     "data": {
      "text/plain": [
       "(1, 2, 3, 4, 5, 6)"
      ]
     },
     "execution_count": 26,
     "metadata": {},
     "output_type": "execute_result"
    }
   ],
   "source": [
    "t = (1,2,3,4)\n",
    "t += (5,6)\n",
    "t"
   ]
  },
  {
   "cell_type": "markdown",
   "metadata": {},
   "source": [
    "元组中只包含一个元素时，需在元素后加一个逗号"
   ]
  },
  {
   "cell_type": "markdown",
   "metadata": {},
   "source": [
    "当元组元素为可变对象时，该对象的属性可以修改"
   ]
  },
  {
   "cell_type": "code",
   "execution_count": 15,
   "metadata": {},
   "outputs": [
    {
     "data": {
      "text/plain": [
       "(1, 2, [0, 4])"
      ]
     },
     "execution_count": 15,
     "metadata": {},
     "output_type": "execute_result"
    }
   ],
   "source": [
    "t = (1,2,[3,4])\n",
    "t[2][0] = 0\n",
    "t"
   ]
  },
  {
   "cell_type": "markdown",
   "metadata": {},
   "source": [
    "- **关于函数返回值**"
   ]
  },
  {
   "cell_type": "code",
   "execution_count": 15,
   "metadata": {},
   "outputs": [],
   "source": [
    "def test():\n",
    "    return 1,2    # 函数返回的是一个元组(1,2)"
   ]
  },
  {
   "cell_type": "code",
   "execution_count": 17,
   "metadata": {},
   "outputs": [
    {
     "name": "stdout",
     "output_type": "stream",
     "text": [
      "1 2\n",
      "(1, 2)\n"
     ]
    }
   ],
   "source": [
    "a,b = test()      # 自动对返回值进行解包，a=1，b=2   \n",
    "print(a,b)    \n",
    "a = test()        # a是一个元组(1,2)\n",
    "print(a)"
   ]
  },
  {
   "cell_type": "markdown",
   "metadata": {},
   "source": [
    "### 2.5 字典"
   ]
  },
  {
   "cell_type": "markdown",
   "metadata": {},
   "source": [
    "字典是一个无序的键key-值value集合，使用{}标识；\n",
    "\n",
    "同一个字典内键必须是唯一的；\n",
    "\n",
    "字典中的元素通过键来读取"
   ]
  },
  {
   "cell_type": "code",
   "execution_count": 2,
   "metadata": {},
   "outputs": [
    {
     "data": {
      "text/plain": [
       "{1: 2, 'one': 3}"
      ]
     },
     "execution_count": 2,
     "metadata": {},
     "output_type": "execute_result"
    }
   ],
   "source": [
    "dict1 = dict()     # 也可以使用{}\n",
    "dict1[1] = 2\n",
    "dict1['one'] = 3\n",
    "dict1"
   ]
  },
  {
   "cell_type": "markdown",
   "metadata": {},
   "source": [
    "#### 字典方法"
   ]
  },
  {
   "cell_type": "code",
   "execution_count": 1,
   "metadata": {},
   "outputs": [
    {
     "data": {
      "text/plain": [
       "1"
      ]
     },
     "execution_count": 1,
     "metadata": {},
     "output_type": "execute_result"
    }
   ],
   "source": [
    "dict1 = {'a':1, 'b':2, 'c': 3}\n",
    "len(dict1)       # 计算字典元素个数\n",
    "str(dict1)       # 以字符串形式打印字典\n",
    "'a' in dict1     # 判断键'a'是否在字典内\n",
    "dict1.get('a')   # 返回指定键'a'对应的值\n",
    "dict1.pop('a')   # 删除给定键'a'对应的值"
   ]
  },
  {
   "cell_type": "markdown",
   "metadata": {},
   "source": [
    "- **创建字典**"
   ]
  },
  {
   "cell_type": "code",
   "execution_count": 25,
   "metadata": {},
   "outputs": [
    {
     "name": "stdout",
     "output_type": "stream",
     "text": [
      "{'a': 1, 'b': 2}\n",
      "{'a': 1, 'b': 2}\n"
     ]
    }
   ],
   "source": [
    "dict1 = dict([('a', 1), ('b', 2)])\n",
    "print(dict1)\n",
    "dict1 = dict(a = 1, b = 2)\n",
    "print(dict1)f"
   ]
  },
  {
   "cell_type": "markdown",
   "metadata": {},
   "source": [
    "- **取字典的键和值**"
   ]
  },
  {
   "cell_type": "code",
   "execution_count": 15,
   "metadata": {},
   "outputs": [
    {
     "data": {
      "text/plain": [
       "[[2], [3]]"
      ]
     },
     "execution_count": 15,
     "metadata": {},
     "output_type": "execute_result"
    }
   ],
   "source": [
    "dict1 = dict()\n",
    "dict1[1] = [2]\n",
    "dict1[2] = [3]\n",
    "list(dict1.keys())       # 键，化为列表\n",
    "list(dict1.values())     # 值，化为列表"
   ]
  },
  {
   "cell_type": "markdown",
   "metadata": {},
   "source": [
    "### 2.6 集合"
   ]
  },
  {
   "cell_type": "markdown",
   "metadata": {},
   "source": [
    "集合是一个无序的**不重复**元素序列"
   ]
  },
  {
   "cell_type": "code",
   "execution_count": 18,
   "metadata": {},
   "outputs": [
    {
     "data": {
      "text/plain": [
       "{1, 2, 3, 4}"
      ]
     },
     "execution_count": 18,
     "metadata": {},
     "output_type": "execute_result"
    }
   ],
   "source": [
    "set1 = set([1,1,2,3])        # 自动去除多余的1，set1={1,2,3}；必须使用可迭代对象创建\n",
    "set2 = set([2,3,4])\n",
    "set1 - set2    # set1中包含而set2中不包含的元素，返回集合对象\n",
    "set1 & set2    # set1和set2的交集\n",
    "set1 | set2    # set1和set2的并集\n",
    "set1 ^ set2    # 不同时包含于set1和set2中的元素"
   ]
  },
  {
   "cell_type": "markdown",
   "metadata": {},
   "source": [
    "#### 集合方法"
   ]
  },
  {
   "cell_type": "code",
   "execution_count": 1,
   "metadata": {},
   "outputs": [
    {
     "data": {
      "text/plain": [
       "{2, 3, 4}"
      ]
     },
     "execution_count": 1,
     "metadata": {},
     "output_type": "execute_result"
    }
   ],
   "source": [
    "set1 = set([1,1,2,3])\n",
    "2 in set1       # 判断2是否在set1内\n",
    "set1.add(4)     # 向set1中添加元素4\n",
    "set1.remove(1)  # 从set1中移除元素1\n",
    "set1"
   ]
  },
  {
   "cell_type": "code",
   "execution_count": 1,
   "metadata": {},
   "outputs": [
    {
     "data": {
      "text/plain": [
       "{'a'}"
      ]
     },
     "execution_count": 1,
     "metadata": {},
     "output_type": "execute_result"
    }
   ],
   "source": [
    "set1 = set('a')\n",
    "set1.add('a')\n",
    "set1"
   ]
  },
  {
   "cell_type": "markdown",
   "metadata": {},
   "source": [
    "## 3. Python 解释器"
   ]
  },
  {
   "cell_type": "markdown",
   "metadata": {},
   "source": [
    "用来执行.py文件，包括CPython，IPython，Jython，PyPy等\n",
    "可以在命令行窗口中直接进行交互式编程；或将代码写在.py文件中进行脚本式编程，再从外部调用这个文件"
   ]
  },
  {
   "cell_type": "markdown",
   "metadata": {},
   "source": [
    "## 4. Python 注释"
   ]
  },
  {
   "cell_type": "markdown",
   "metadata": {},
   "source": [
    "单行注释以#开头；\n",
    "\n",
    "多行注释使用三个单引号'''或三个双引号\"\"\"将注释括起来"
   ]
  },
  {
   "cell_type": "code",
   "execution_count": 4,
   "metadata": {},
   "outputs": [
    {
     "data": {
      "text/plain": [
       "'\\n这是\\n多行注释\\n'"
      ]
     },
     "execution_count": 4,
     "metadata": {},
     "output_type": "execute_result"
    }
   ],
   "source": [
    "# 这是单行注释\n",
    "'''\n",
    "这是\n",
    "多行注释\n",
    "'''"
   ]
  },
  {
   "cell_type": "markdown",
   "metadata": {},
   "source": [
    "## 5. Python 运算符"
   ]
  },
  {
   "cell_type": "markdown",
   "metadata": {},
   "source": [
    "### 5.1 算术运算符"
   ]
  },
  {
   "cell_type": "code",
   "execution_count": 8,
   "metadata": {},
   "outputs": [
    {
     "data": {
      "text/plain": [
       "-5"
      ]
     },
     "execution_count": 8,
     "metadata": {},
     "output_type": "execute_result"
    }
   ],
   "source": [
    "2**3       # 2的3次方\n",
    "-9//2      # 向下取接近商的整数"
   ]
  },
  {
   "cell_type": "markdown",
   "metadata": {},
   "source": [
    "### 5.2 比较运算符"
   ]
  },
  {
   "cell_type": "markdown",
   "metadata": {},
   "source": [
    "### 5.3 赋值运算符"
   ]
  },
  {
   "cell_type": "markdown",
   "metadata": {},
   "source": [
    "### 5.4 位运算符"
   ]
  },
  {
   "cell_type": "code",
   "execution_count": 13,
   "metadata": {},
   "outputs": [
    {
     "data": {
      "text/plain": [
       "2"
      ]
     },
     "execution_count": 13,
     "metadata": {},
     "output_type": "execute_result"
    }
   ],
   "source": [
    "4 & 5   # 100&101，按位与，每一位上若都为1则结果=1，否则等于0\n",
    "4 | 5   # 100|101，按位或，每一位上若有一个为1则结果=1，否则等于0\n",
    "4 ^ 5   # 100^101，按位异或，每一位若不相同则结果=1，否则等于0\n",
    "~3      # 按位取反\n",
    "5<<1    # 运算数101的各二进位全部左移1位，得1010（低位补0）\n",
    "5>>1    # 运算数101的各二进位全部右移1位，得10（低位丢弃）"
   ]
  },
  {
   "cell_type": "code",
   "execution_count": 15,
   "metadata": {},
   "outputs": [
    {
     "data": {
      "text/plain": [
       "0"
      ]
     },
     "execution_count": 15,
     "metadata": {},
     "output_type": "execute_result"
    }
   ],
   "source": [
    "0^4^4"
   ]
  },
  {
   "cell_type": "code",
   "execution_count": 8,
   "metadata": {},
   "outputs": [
    {
     "data": {
      "text/plain": [
       "3"
      ]
     },
     "execution_count": 8,
     "metadata": {},
     "output_type": "execute_result"
    }
   ],
   "source": [
    "num = 0b110       # 二进制输入\n",
    "bin(num>>1)          # 二进制输出\n",
    "num >>= 1\n",
    "num"
   ]
  },
  {
   "cell_type": "markdown",
   "metadata": {},
   "source": [
    "### 5.5 逻辑运算符"
   ]
  },
  {
   "cell_type": "code",
   "execution_count": 16,
   "metadata": {},
   "outputs": [
    {
     "data": {
      "text/plain": [
       "True"
      ]
     },
     "execution_count": 16,
     "metadata": {},
     "output_type": "execute_result"
    }
   ],
   "source": [
    "0 and 1\n",
    "1 or -1\n",
    "not 0"
   ]
  },
  {
   "cell_type": "markdown",
   "metadata": {},
   "source": [
    "**优先级 () > not > and > or**\n",
    "\n",
    "and：前面为假则表达式为假，否则表达式为后面的值（1 and -1 = -1）  \n",
    "or：前面为真则表达式为前面的值，否则为后面的值（1 or -1 = 1）"
   ]
  },
  {
   "cell_type": "markdown",
   "metadata": {},
   "source": [
    "## 6. Python条件控制"
   ]
  },
  {
   "cell_type": "code",
   "execution_count": 27,
   "metadata": {},
   "outputs": [
    {
     "name": "stdout",
     "output_type": "stream",
     "text": [
      "0\n",
      "False\n",
      "\n",
      "None\n",
      "[]\n"
     ]
    }
   ],
   "source": [
    "# 0, False, '', None, []都为假\n",
    "a = 0      \n",
    "if not a:\n",
    "    print(a)\n",
    "b = False\n",
    "if not b:\n",
    "    print(b)\n",
    "c = ''\n",
    "if not c:\n",
    "    print(c)\n",
    "d = None\n",
    "if not d:\n",
    "    print(d)\n",
    "e = []\n",
    "if not e:\n",
    "    print(e)"
   ]
  },
  {
   "cell_type": "markdown",
   "metadata": {},
   "source": [
    "None是一个常量，代表没有值，与空列表、空字符串都不同"
   ]
  },
  {
   "cell_type": "markdown",
   "metadata": {},
   "source": [
    "- **区间判断**"
   ]
  },
  {
   "cell_type": "code",
   "execution_count": 3,
   "metadata": {},
   "outputs": [
    {
     "name": "stdout",
     "output_type": "stream",
     "text": [
      "True\n"
     ]
    }
   ],
   "source": [
    "if 0 < 1 < 2:\n",
    "    print(True)"
   ]
  },
  {
   "cell_type": "markdown",
   "metadata": {},
   "source": [
    "## 7. Python循环语句"
   ]
  },
  {
   "cell_type": "markdown",
   "metadata": {},
   "source": [
    "### 7.1 for循环"
   ]
  },
  {
   "cell_type": "code",
   "execution_count": 4,
   "metadata": {},
   "outputs": [
    {
     "name": "stdout",
     "output_type": "stream",
     "text": [
      "1\n",
      "2\n",
      "3\n",
      "3\n",
      "2\n",
      "1\n"
     ]
    }
   ],
   "source": [
    "for i in [1,2,3]:        # for循环可以遍历任何可迭代对象\n",
    "    print(i)\n",
    "for i in range(3,0,-1):  # 也可以使用range函数，第三个参数为步长\n",
    "    print(i)"
   ]
  },
  {
   "cell_type": "code",
   "execution_count": 2,
   "metadata": {},
   "outputs": [
    {
     "name": "stdout",
     "output_type": "stream",
     "text": [
      "0 1\n",
      "1 2\n",
      "1 2\n",
      "2 3\n"
     ]
    }
   ],
   "source": [
    "for i, j in [range(2),range(1,3)]:      # 可以使用多个变量进行循环\n",
    "    print(i,j)\n",
    "for i, j in zip([1,2],[2,3]):\n",
    "    print(i,j)"
   ]
  },
  {
   "cell_type": "markdown",
   "metadata": {},
   "source": [
    "- **zip函数**   \n",
    "将可迭代对象作为参数，将对象中对应的元素打包成一系列元组，返回由这些元组组成的对象（可以由list()转换为列表）"
   ]
  },
  {
   "cell_type": "code",
   "execution_count": 47,
   "metadata": {},
   "outputs": [
    {
     "name": "stdout",
     "output_type": "stream",
     "text": [
      "[(1, 3), (2, 4)]\n"
     ]
    },
    {
     "data": {
      "text/plain": [
       "[(1, 2, 3), (4, 5, 6)]"
      ]
     },
     "execution_count": 47,
     "metadata": {},
     "output_type": "execute_result"
    }
   ],
   "source": [
    "print(list(zip([1,2],[3,4])))            # 1,3和2,4分别打包成元组\n",
    "list(zip(*[[1, 4], [2, 5], [3, 6]]))     # 解包，恢复二阶矩形式"
   ]
  },
  {
   "cell_type": "markdown",
   "metadata": {},
   "source": [
    "for语句可以使用else，当跳出循环时执行"
   ]
  },
  {
   "cell_type": "code",
   "execution_count": 2,
   "metadata": {},
   "outputs": [
    {
     "name": "stdout",
     "output_type": "stream",
     "text": [
      "0\n",
      "1\n",
      "-1\n"
     ]
    }
   ],
   "source": [
    "for i in range(2):\n",
    "    print(i)\n",
    "else:\n",
    "    print(-1)"
   ]
  },
  {
   "cell_type": "markdown",
   "metadata": {},
   "source": [
    "### 7.2 while循环"
   ]
  },
  {
   "cell_type": "markdown",
   "metadata": {},
   "source": [
    "while语句也可以使用else，当跳出循环时执行"
   ]
  },
  {
   "cell_type": "code",
   "execution_count": 1,
   "metadata": {},
   "outputs": [
    {
     "name": "stdout",
     "output_type": "stream",
     "text": [
      "2\n",
      "1\n",
      "-1\n"
     ]
    }
   ],
   "source": [
    "i = 2\n",
    "while i > 0:\n",
    "    print(i)\n",
    "    i -= 1\n",
    "else:\n",
    "    print(-1)"
   ]
  },
  {
   "cell_type": "markdown",
   "metadata": {},
   "source": [
    "- **pass语句**"
   ]
  },
  {
   "cell_type": "code",
   "execution_count": 27,
   "metadata": {},
   "outputs": [],
   "source": [
    "for i in range(2):\n",
    "    pass              # pass表示空语句，如果不进行任何操作需要写pass语句而不能不写语句"
   ]
  },
  {
   "cell_type": "markdown",
   "metadata": {},
   "source": [
    "## 8. Python迭代器与生成器"
   ]
  },
  {
   "cell_type": "markdown",
   "metadata": {},
   "source": [
    "### 8.1 迭代器"
   ]
  },
  {
   "cell_type": "markdown",
   "metadata": {},
   "source": [
    "- 迭代器是访问集合元素的一种方式\n",
    "- 迭代器是一个可以记住遍历的位置的对象  \n",
    "- 迭代器对象从集合的第一个元素开始访问，直到所有元素被访问完结束；迭代器只能往前不会后退\n",
    "- 字符串，列表，元组对象都可用于创建迭代器"
   ]
  },
  {
   "cell_type": "code",
   "execution_count": 5,
   "metadata": {},
   "outputs": [
    {
     "name": "stdout",
     "output_type": "stream",
     "text": [
      "1\n",
      "2\n"
     ]
    }
   ],
   "source": [
    "l = [1,2,3,4]\n",
    "it = iter(l)\n",
    "print(next(it))\n",
    "print(next(it))    # 通过next访问下一个元素"
   ]
  },
  {
   "cell_type": "code",
   "execution_count": 7,
   "metadata": {},
   "outputs": [
    {
     "name": "stdout",
     "output_type": "stream",
     "text": [
      "1\n",
      "2\n",
      "3\n",
      "4\n"
     ]
    }
   ],
   "source": [
    "l = [1,2,3,4]\n",
    "it = iter(l)\n",
    "for x in it:      # 通过for语句进行遍历\n",
    "    print(x)"
   ]
  },
  {
   "cell_type": "markdown",
   "metadata": {},
   "source": [
    "### 8.2 生成器"
   ]
  },
  {
   "cell_type": "markdown",
   "metadata": {},
   "source": [
    "- 生成器是一个使用了yield的函数，返回的是一个**迭代器对象**\n",
    "- 使用生成器可以减少内存占用"
   ]
  },
  {
   "cell_type": "code",
   "execution_count": 8,
   "metadata": {},
   "outputs": [],
   "source": [
    "def f(n):\n",
    "    for i in range(n):\n",
    "        yield i           \n",
    "        # 每次循环时运行到yield语句时会中断，并返回一个迭代值；下一次循环时从yield的下一句语句继续执行"
   ]
  },
  {
   "cell_type": "code",
   "execution_count": 10,
   "metadata": {},
   "outputs": [
    {
     "name": "stdout",
     "output_type": "stream",
     "text": [
      "0\n",
      "1\n",
      "2\n",
      "3\n"
     ]
    }
   ],
   "source": [
    "# 使用for语句遍历\n",
    "for i in f(4):\n",
    "    print(i)"
   ]
  },
  {
   "cell_type": "code",
   "execution_count": 12,
   "metadata": {},
   "outputs": [
    {
     "data": {
      "text/plain": [
       "0"
      ]
     },
     "execution_count": 12,
     "metadata": {},
     "output_type": "execute_result"
    }
   ],
   "source": [
    "next(f(4))   # 使用next访问"
   ]
  },
  {
   "cell_type": "markdown",
   "metadata": {},
   "source": [
    "## 9. Python函数"
   ]
  },
  {
   "cell_type": "markdown",
   "metadata": {},
   "source": [
    "### 9.1 函数参数"
   ]
  },
  {
   "cell_type": "markdown",
   "metadata": {},
   "source": [
    "- **可变与不可变对象**"
   ]
  },
  {
   "cell_type": "markdown",
   "metadata": {},
   "source": [
    "- 不可变类型：字符串，元组，数字。变量a=5后再赋值a=10，实际上是新生成一个int对象10，再让a指向它，相当于新生成a\n",
    "- 可变类型：列表，字典。变量l=[1,2,3]后再赋值l[2]=0只是将l的第三个元素值更改，l本身没有变动\n",
    "- 参数传递：不可变类型参数传递时是值传递，修改参数值不影响对象本身；可变类型参数传递时是将对象真正传递过去，修改参数值后函数外部的对象也会受影响"
   ]
  },
  {
   "cell_type": "code",
   "execution_count": 1,
   "metadata": {},
   "outputs": [
    {
     "data": {
      "text/plain": [
       "[1, 1, 2]"
      ]
     },
     "execution_count": 1,
     "metadata": {},
     "output_type": "execute_result"
    }
   ],
   "source": [
    "def test(a):\n",
    "    a[0] = 1\n",
    "    return\n",
    "num = [0,1,2]\n",
    "test(num)\n",
    "num"
   ]
  },
  {
   "cell_type": "code",
   "execution_count": 1,
   "metadata": {},
   "outputs": [
    {
     "data": {
      "text/plain": [
       "'a'"
      ]
     },
     "execution_count": 1,
     "metadata": {},
     "output_type": "execute_result"
    }
   ],
   "source": [
    "def test(s):\n",
    "    s = 'ab'\n",
    "    return\n",
    "s1 = 'a'\n",
    "test(s1)\n",
    "s1"
   ]
  },
  {
   "cell_type": "markdown",
   "metadata": {},
   "source": [
    "- **默认参数**"
   ]
  },
  {
   "cell_type": "code",
   "execution_count": 12,
   "metadata": {},
   "outputs": [
    {
     "name": "stdout",
     "output_type": "stream",
     "text": [
      "1\n",
      "2\n"
     ]
    }
   ],
   "source": [
    "def f(a = 1):\n",
    "    print(a)\n",
    "f()\n",
    "f(2)"
   ]
  },
  {
   "cell_type": "markdown",
   "metadata": {},
   "source": [
    "**默认参数必须放在最后**"
   ]
  },
  {
   "cell_type": "code",
   "execution_count": 48,
   "metadata": {},
   "outputs": [
    {
     "ename": "SyntaxError",
     "evalue": "non-default argument follows default argument (<ipython-input-48-3903ddefd57e>, line 1)",
     "output_type": "error",
     "traceback": [
      "\u001b[1;36m  File \u001b[1;32m\"<ipython-input-48-3903ddefd57e>\"\u001b[1;36m, line \u001b[1;32m1\u001b[0m\n\u001b[1;33m    def f(a=1, b):\u001b[0m\n\u001b[1;37m          ^\u001b[0m\n\u001b[1;31mSyntaxError\u001b[0m\u001b[1;31m:\u001b[0m non-default argument follows default argument\n"
     ]
    }
   ],
   "source": [
    "def f(a=1, b):\n",
    "    print(a)\n",
    "f(2)"
   ]
  },
  {
   "cell_type": "markdown",
   "metadata": {},
   "source": [
    "- **关键字参数**"
   ]
  },
  {
   "cell_type": "code",
   "execution_count": 13,
   "metadata": {},
   "outputs": [
    {
     "name": "stdout",
     "output_type": "stream",
     "text": [
      "2 1\n"
     ]
    }
   ],
   "source": [
    "def f(a,b):\n",
    "    print(a, b)\n",
    "f(b = 1, a = 2)    # 调用时参数的顺序可以和声明时不一致"
   ]
  },
  {
   "cell_type": "markdown",
   "metadata": {},
   "source": [
    "- **不定长参数**"
   ]
  },
  {
   "cell_type": "code",
   "execution_count": 3,
   "metadata": {},
   "outputs": [
    {
     "name": "stdout",
     "output_type": "stream",
     "text": [
      "1 (2, 3, 4)\n"
     ]
    }
   ],
   "source": [
    "def f1(a, *args):     #一个星号表示的参数会以元组形式导入\n",
    "    print(a,args)\n",
    "f1(1,2,3,4)"
   ]
  },
  {
   "cell_type": "code",
   "execution_count": 6,
   "metadata": {},
   "outputs": [
    {
     "name": "stdout",
     "output_type": "stream",
     "text": [
      "{'a': 1, 'b': 2}\n",
      "{'a': 1}\n"
     ]
    }
   ],
   "source": [
    "def f2(**kwargs):      #两个星号表示的参数会以字典形式导入\n",
    "    print(kwargs)\n",
    "f2(a=1, b=2)\n",
    "\n",
    "kw = {'a':1}\n",
    "f2(**kw)                # 直接传入字典"
   ]
  },
  {
   "cell_type": "markdown",
   "metadata": {},
   "source": [
    "### 9.2 匿名函数"
   ]
  },
  {
   "cell_type": "markdown",
   "metadata": {},
   "source": [
    "- 使用lambda语句而非def定义函数\n",
    "- lambda的主体是一个表达式，而不是代码块，只能封装有限的逻辑\n",
    "- lambda函数拥有自己的命名空间，不能访问自己参数列表之外或全局命名空间里的参数"
   ]
  },
  {
   "cell_type": "markdown",
   "metadata": {},
   "source": [
    "lambda 参数: 返回值  \n",
    "直接调用时：lambda 参数：返回值，参数值"
   ]
  },
  {
   "cell_type": "code",
   "execution_count": 21,
   "metadata": {},
   "outputs": [
    {
     "data": {
      "text/plain": [
       "2"
      ]
     },
     "execution_count": 21,
     "metadata": {},
     "output_type": "execute_result"
    }
   ],
   "source": [
    "c = lambda a, b: a if a > b else b        \n",
    "c(1,2)"
   ]
  },
  {
   "cell_type": "markdown",
   "metadata": {},
   "source": [
    "- **map函数**"
   ]
  },
  {
   "cell_type": "markdown",
   "metadata": {},
   "source": [
    "根据提供的函数对指定序列做映射，返回一个迭代器"
   ]
  },
  {
   "cell_type": "code",
   "execution_count": 22,
   "metadata": {},
   "outputs": [
    {
     "data": {
      "text/plain": [
       "[1, 4, 9]"
      ]
     },
     "execution_count": 22,
     "metadata": {},
     "output_type": "execute_result"
    }
   ],
   "source": [
    "def square(x):\n",
    "    return x**2\n",
    "list(map(square, [1,2,3]))"
   ]
  },
  {
   "cell_type": "code",
   "execution_count": 25,
   "metadata": {},
   "outputs": [
    {
     "data": {
      "text/plain": [
       "[1, 4, 9]"
      ]
     },
     "execution_count": 25,
     "metadata": {},
     "output_type": "execute_result"
    }
   ],
   "source": [
    "list(map(lambda x: x**2, [1,2,3]))"
   ]
  },
  {
   "cell_type": "code",
   "execution_count": 33,
   "metadata": {},
   "outputs": [
    {
     "data": {
      "text/plain": [
       "[[1, 4], [2, 5], [3, 6]]"
      ]
     },
     "execution_count": 33,
     "metadata": {},
     "output_type": "execute_result"
    }
   ],
   "source": [
    "# 数组转置\n",
    "t = lambda x, y : [x,y]\n",
    "list(map(t, [1,2,3],[4,5,6]))"
   ]
  },
  {
   "cell_type": "markdown",
   "metadata": {},
   "source": [
    "### 9.3 变量作用域"
   ]
  },
  {
   "cell_type": "markdown",
   "metadata": {},
   "source": [
    "**变量访问顺序：局部->局部外的局部（闭包）->全局->内建**"
   ]
  },
  {
   "cell_type": "markdown",
   "metadata": {},
   "source": [
    "- 局部作用域"
   ]
  },
  {
   "cell_type": "code",
   "execution_count": 50,
   "metadata": {},
   "outputs": [
    {
     "name": "stdout",
     "output_type": "stream",
     "text": [
      "2\n"
     ]
    }
   ],
   "source": [
    "def f1(x):\n",
    "    def f2(x):\n",
    "        x = 2      # 使用的是f2中定义的x\n",
    "        print(x)\n",
    "    f2(1)\n",
    "f1(1)"
   ]
  },
  {
   "cell_type": "markdown",
   "metadata": {},
   "source": [
    "- 闭包函数外的函数"
   ]
  },
  {
   "cell_type": "code",
   "execution_count": 52,
   "metadata": {},
   "outputs": [
    {
     "name": "stdout",
     "output_type": "stream",
     "text": [
      "1\n"
     ]
    }
   ],
   "source": [
    "def f1():\n",
    "    x = 1\n",
    "    def f2():\n",
    "        print(x)   # 使用的是f1中定义的x\n",
    "    f2()\n",
    "f1()"
   ]
  },
  {
   "cell_type": "markdown",
   "metadata": {},
   "source": [
    "- 全局作用域"
   ]
  },
  {
   "cell_type": "code",
   "execution_count": 62,
   "metadata": {},
   "outputs": [],
   "source": [
    "x = 1\n",
    "def f1(n):\n",
    "    x = 2\n",
    "f1(2)"
   ]
  },
  {
   "cell_type": "markdown",
   "metadata": {},
   "source": [
    "***全局变量***"
   ]
  },
  {
   "cell_type": "markdown",
   "metadata": {},
   "source": [
    "- 对内部函数，不修改全局变量时可以访问全局变量"
   ]
  },
  {
   "cell_type": "code",
   "execution_count": 65,
   "metadata": {},
   "outputs": [
    {
     "name": "stdout",
     "output_type": "stream",
     "text": [
      "12\n"
     ]
    }
   ],
   "source": [
    "x = 10\n",
    "def f():\n",
    "    b = x+2\n",
    "    print(b)\n",
    "f()"
   ]
  },
  {
   "cell_type": "markdown",
   "metadata": {},
   "source": [
    "- 声明一个与全局变量同名的局部变量，全局变量值不改变"
   ]
  },
  {
   "cell_type": "code",
   "execution_count": 67,
   "metadata": {},
   "outputs": [
    {
     "name": "stdout",
     "output_type": "stream",
     "text": [
      "1\n",
      "10\n"
     ]
    }
   ],
   "source": [
    "x = 10\n",
    "def f():\n",
    "    x = 1\n",
    "    print(x)\n",
    "f()\n",
    "print(x)"
   ]
  },
  {
   "cell_type": "markdown",
   "metadata": {},
   "source": [
    "- 在修改全局变量之前调用变量名称，则报错；在修改之后（实际上是声明一个同名局部变量）调用则不报错"
   ]
  },
  {
   "cell_type": "code",
   "execution_count": 68,
   "metadata": {},
   "outputs": [
    {
     "ename": "UnboundLocalError",
     "evalue": "local variable 'x' referenced before assignment",
     "output_type": "error",
     "traceback": [
      "\u001b[1;31m---------------------------------------------------------------------------\u001b[0m",
      "\u001b[1;31mUnboundLocalError\u001b[0m                         Traceback (most recent call last)",
      "\u001b[1;32m<ipython-input-68-957ac14ce600>\u001b[0m in \u001b[0;36m<module>\u001b[1;34m\u001b[0m\n\u001b[0;32m      3\u001b[0m     \u001b[0mprint\u001b[0m\u001b[1;33m(\u001b[0m\u001b[0mx\u001b[0m\u001b[1;33m)\u001b[0m\u001b[1;33m\u001b[0m\u001b[1;33m\u001b[0m\u001b[0m\n\u001b[0;32m      4\u001b[0m     \u001b[0mx\u001b[0m \u001b[1;33m=\u001b[0m \u001b[1;36m1\u001b[0m\u001b[1;33m\u001b[0m\u001b[1;33m\u001b[0m\u001b[0m\n\u001b[1;32m----> 5\u001b[1;33m \u001b[0mf\u001b[0m\u001b[1;33m(\u001b[0m\u001b[1;33m)\u001b[0m\u001b[1;33m\u001b[0m\u001b[1;33m\u001b[0m\u001b[0m\n\u001b[0m",
      "\u001b[1;32m<ipython-input-68-957ac14ce600>\u001b[0m in \u001b[0;36mf\u001b[1;34m()\u001b[0m\n\u001b[0;32m      1\u001b[0m \u001b[0mx\u001b[0m \u001b[1;33m=\u001b[0m \u001b[1;36m10\u001b[0m\u001b[1;33m\u001b[0m\u001b[1;33m\u001b[0m\u001b[0m\n\u001b[0;32m      2\u001b[0m \u001b[1;32mdef\u001b[0m \u001b[0mf\u001b[0m\u001b[1;33m(\u001b[0m\u001b[1;33m)\u001b[0m\u001b[1;33m:\u001b[0m\u001b[1;33m\u001b[0m\u001b[1;33m\u001b[0m\u001b[0m\n\u001b[1;32m----> 3\u001b[1;33m     \u001b[0mprint\u001b[0m\u001b[1;33m(\u001b[0m\u001b[0mx\u001b[0m\u001b[1;33m)\u001b[0m\u001b[1;33m\u001b[0m\u001b[1;33m\u001b[0m\u001b[0m\n\u001b[0m\u001b[0;32m      4\u001b[0m     \u001b[0mx\u001b[0m \u001b[1;33m=\u001b[0m \u001b[1;36m1\u001b[0m\u001b[1;33m\u001b[0m\u001b[1;33m\u001b[0m\u001b[0m\n\u001b[0;32m      5\u001b[0m \u001b[0mf\u001b[0m\u001b[1;33m(\u001b[0m\u001b[1;33m)\u001b[0m\u001b[1;33m\u001b[0m\u001b[1;33m\u001b[0m\u001b[0m\n",
      "\u001b[1;31mUnboundLocalError\u001b[0m: local variable 'x' referenced before assignment"
     ]
    }
   ],
   "source": [
    "x = 10\n",
    "def f():\n",
    "    print(x)\n",
    "    x = 1\n",
    "f()"
   ]
  },
  {
   "cell_type": "markdown",
   "metadata": {},
   "source": [
    "- 可以使用global引用以修改全局变量值"
   ]
  },
  {
   "cell_type": "code",
   "execution_count": 71,
   "metadata": {},
   "outputs": [
    {
     "name": "stdout",
     "output_type": "stream",
     "text": [
      "10\n",
      "1\n"
     ]
    }
   ],
   "source": [
    "x = 10\n",
    "def f():\n",
    "    global x\n",
    "    print(x)        # 此时x=10\n",
    "    x = 1           # 赋值后全局变量x=1\n",
    "f()\n",
    "print(x)"
   ]
  },
  {
   "cell_type": "markdown",
   "metadata": {},
   "source": [
    "### 9.4 函数装饰器"
   ]
  },
  {
   "cell_type": "markdown",
   "metadata": {},
   "source": [
    "- **从函数中返回函数**"
   ]
  },
  {
   "cell_type": "markdown",
   "metadata": {},
   "source": [
    "函数也可以作为另一个函数的返回值"
   ]
  },
  {
   "cell_type": "code",
   "execution_count": 23,
   "metadata": {},
   "outputs": [
    {
     "name": "stdout",
     "output_type": "stream",
     "text": [
      "<function f.<locals>.g at 0x0000024986BCB670>\n",
      "this is g\n"
     ]
    },
    {
     "data": {
      "text/plain": [
       "'this is g'"
      ]
     },
     "execution_count": 23,
     "metadata": {},
     "output_type": "execute_result"
    }
   ],
   "source": [
    "def f(x):\n",
    "    def g():\n",
    "        return 'this is g'\n",
    "    def z():\n",
    "        return 'this is z'\n",
    "    \n",
    "    if x == 'g':\n",
    "        return g       # 返回函数（不带括号，否则返回的是函数执行后的返回值）\n",
    "    else:\n",
    "        return z\n",
    "a = f('g')\n",
    "print(a)       # a现在指向f函数中的g函数\n",
    "print(a())     # 打印f函数返回值"
   ]
  },
  {
   "cell_type": "markdown",
   "metadata": {},
   "source": [
    "- **函数作为参数**"
   ]
  },
  {
   "cell_type": "code",
   "execution_count": 24,
   "metadata": {},
   "outputs": [
    {
     "name": "stdout",
     "output_type": "stream",
     "text": [
      "this is test\n",
      "this is f\n"
     ]
    }
   ],
   "source": [
    "def f():\n",
    "    return 'this is f'\n",
    "def test(fun):\n",
    "    print('this is test')\n",
    "    print (fun())\n",
    "test(f)"
   ]
  },
  {
   "cell_type": "markdown",
   "metadata": {},
   "source": [
    "- **简单装饰器**"
   ]
  },
  {
   "cell_type": "markdown",
   "metadata": {},
   "source": [
    "装饰器本质上是一个 Python 函数或类，它可以让其他函数或类在不需要做任何代码修改的前提下增加额外功能，装饰器的返回值也是一个函数/类对象。它经常用于有切面需求的场景，比如：插入日志、性能测试、事务处理、缓存、权限校验等场景，装饰器是解决这类问题的绝佳设计。有了装饰器，我们就可以抽离出大量与函数功能本身无关的雷同代码到装饰器中并继续重用。概括的讲，装饰器的作用就是为已经存在的对象添加额外的功能。"
   ]
  },
  {
   "cell_type": "code",
   "execution_count": 43,
   "metadata": {},
   "outputs": [
    {
     "data": {
      "text/plain": [
       "<function __main__.use_logging.<locals>.wrapper(x)>"
      ]
     },
     "execution_count": 43,
     "metadata": {},
     "output_type": "execute_result"
    }
   ],
   "source": [
    "def use_logging(func):\n",
    "\n",
    "    def wrapper(x):\n",
    "        print(\"%s is running\" % func.__name__)\n",
    "        return func(x)   # 把 foo 当做参数传递进来时，执行func()就相当于执行foo()\n",
    "    return wrapper\n",
    "\n",
    "def foo(x):\n",
    "    print('i am foo %d' %x)\n",
    "\n",
    "foo = use_logging(foo)  # 因为装饰器 use_logging(foo) 返回的时函数对象 wrapper，这条语句相当于  foo = wrapper\n",
    "foo(1)"
   ]
  },
  {
   "cell_type": "markdown",
   "metadata": {},
   "source": [
    "use_logging是一个装饰器，把真正需要执行业务逻辑的函数func包裹在其中；  \n",
    "use_logging返回的是一个函数wrapper，wrapper中既执行了附加操作，又执行了业务逻辑函数;  \n",
    "对不同的业务逻辑函数，只需要调用use_logging函数并修改参数即可完成相同的附加操作"
   ]
  },
  {
   "cell_type": "markdown",
   "metadata": {},
   "source": [
    "- **@语法糖**"
   ]
  },
  {
   "cell_type": "markdown",
   "metadata": {},
   "source": [
    "@符号是装饰器的语法糖，放在函数开始的地方，从而可以省略最后一步再次赋值的操作"
   ]
  },
  {
   "cell_type": "code",
   "execution_count": 44,
   "metadata": {},
   "outputs": [
    {
     "name": "stdout",
     "output_type": "stream",
     "text": [
      "foo is running\n",
      "i am foo\n"
     ]
    }
   ],
   "source": [
    "def use_logging(func):\n",
    "\n",
    "    def wrapper():\n",
    "        print(\"%s is running\" % func.__name__)\n",
    "        return func()   # 把 foo 当做参数传递进来时，执行func()就相当于执行foo()\n",
    "    return wrapper\n",
    "\n",
    "@use_logging          # 自动将foo函数作为参数传入use_logging函数，并执行use_logging函数返回的wrapper\n",
    "def foo():\n",
    "    print('i am foo')\n",
    "\n",
    "foo()"
   ]
  },
  {
   "cell_type": "markdown",
   "metadata": {},
   "source": [
    "- **通过装饰器传入参数**"
   ]
  },
  {
   "cell_type": "code",
   "execution_count": 45,
   "metadata": {},
   "outputs": [
    {
     "name": "stdout",
     "output_type": "stream",
     "text": [
      "foo is running\n",
      "i am foo 1\n"
     ]
    }
   ],
   "source": [
    "def use_logging(func):\n",
    "\n",
    "    def wrapper(x):\n",
    "        print(\"%s is running\" % func.__name__)\n",
    "        return func(x)   # 把 foo 当做参数传递进来时，执行func()就相当于执行foo()\n",
    "    return wrapper\n",
    "\n",
    "@use_logging          # 自动将foo函数作为参数传入use_logging函数，并执行use_logging函数返回的wrapper\n",
    "def foo(x):\n",
    "    print('i am foo %d' %x)\n",
    "\n",
    "foo(1)"
   ]
  },
  {
   "cell_type": "markdown",
   "metadata": {},
   "source": [
    "还可以使用不定长参数："
   ]
  },
  {
   "cell_type": "code",
   "execution_count": 50,
   "metadata": {},
   "outputs": [
    {
     "name": "stdout",
     "output_type": "stream",
     "text": [
      "foo is running\n",
      "i am foo 1 2\n"
     ]
    }
   ],
   "source": [
    "def use_logging(func):\n",
    "\n",
    "    def wrapper(*args):\n",
    "        print(\"%s is running\" % func.__name__)\n",
    "        return func(*args)   # 把 foo 当做参数传递进来时，执行func()就相当于执行foo()\n",
    "    return wrapper\n",
    "\n",
    "@use_logging          # 自动将foo函数作为参数传入use_logging函数，并执行use_logging函数返回的wrapper\n",
    "def foo(x, y):\n",
    "    print('i am foo %d %d' %(x,y))\n",
    "\n",
    "foo(1,2)"
   ]
  },
  {
   "cell_type": "markdown",
   "metadata": {},
   "source": [
    "以及关键字参数："
   ]
  },
  {
   "cell_type": "code",
   "execution_count": 49,
   "metadata": {},
   "outputs": [
    {
     "name": "stdout",
     "output_type": "stream",
     "text": [
      "foo is running\n",
      "i am a and b\n"
     ]
    }
   ],
   "source": [
    "def use_logging(func):\n",
    "\n",
    "    def wrapper(**kwargs):\n",
    "        print(\"%s is running\" % func.__name__)\n",
    "        return func(**kwargs)   # 把 foo 当做参数传递进来时，执行func()就相当于执行foo()\n",
    "    return wrapper\n",
    "\n",
    "@use_logging          # 自动将foo函数作为参数传入use_logging函数，并执行use_logging函数返回的wrapper\n",
    "def foo(name1, name2):\n",
    "    print('i am %s and %s' %(name1, name2))\n",
    "\n",
    "foo(name1 = 'a', name2 = 'b')"
   ]
  },
  {
   "cell_type": "markdown",
   "metadata": {},
   "source": [
    "- **带参数的装饰器**"
   ]
  },
  {
   "cell_type": "code",
   "execution_count": 60,
   "metadata": {},
   "outputs": [
    {
     "name": "stdout",
     "output_type": "stream",
     "text": [
      "foo is warning\n",
      "i am foo 1\n"
     ]
    }
   ],
   "source": [
    "def use_logging(level):\n",
    "    def decorator(func):\n",
    "        def wrapper(*args, **kwargs):\n",
    "            if level == \"warn\":\n",
    "                print(\"%s is warning\" % func.__name__)\n",
    "            else:\n",
    "                print(\"%s is running\" % func.__name__)\n",
    "            return func(**kwargs)\n",
    "        return wrapper\n",
    "\n",
    "    return decorator\n",
    "\n",
    "@use_logging(level=\"warn\")\n",
    "def foo(name='foo', x = '1'):\n",
    "    print(\"i am %s %s\" % (name,x))\n",
    "\n",
    "foo()"
   ]
  },
  {
   "cell_type": "markdown",
   "metadata": {},
   "source": [
    "## 10. Python模块"
   ]
  },
  {
   "cell_type": "markdown",
   "metadata": {},
   "source": [
    "将方法和变量的定义存放在文件中，为一些脚本或交互式的解释器实例使用，这个文件称为脚本  \n",
    "模块的后缀名是.py，可以被别的程序引入，以使用该模块中的函数等功能"
   ]
  },
  {
   "cell_type": "code",
   "execution_count": 9,
   "metadata": {},
   "outputs": [
    {
     "name": "stdout",
     "output_type": "stream",
     "text": [
      "['D:\\\\Jupyter Notebook\\\\Learning', 'D:\\\\anaconda3\\\\python38.zip', 'D:\\\\anaconda3\\\\DLLs', 'D:\\\\anaconda3\\\\lib', 'D:\\\\anaconda3', '', 'D:\\\\anaconda3\\\\lib\\\\site-packages', 'D:\\\\anaconda3\\\\lib\\\\site-packages\\\\locket-0.2.1-py3.8.egg', 'D:\\\\anaconda3\\\\lib\\\\site-packages\\\\win32', 'D:\\\\anaconda3\\\\lib\\\\site-packages\\\\win32\\\\lib', 'D:\\\\anaconda3\\\\lib\\\\site-packages\\\\Pythonwin', 'D:\\\\anaconda3\\\\lib\\\\site-packages\\\\IPython\\\\extensions', 'C:\\\\Users\\\\Jiayu\\\\.ipython']\n"
     ]
    }
   ],
   "source": [
    "import sys\n",
    "print(sys.path)"
   ]
  },
  {
   "cell_type": "markdown",
   "metadata": {},
   "source": [
    "- 使用import语句时，Python解释器依次从搜索路径（存储在sys模块中的path变量）中寻找所引入的模块\n",
    "- 如果在其他路径（如D:\\test）下有一个模块，可以通过修改path变量的方法将其导入其他代码中：  \n",
    "import sys  \n",
    "sys.path.append('D:\\\\test')"
   ]
  },
  {
   "cell_type": "markdown",
   "metadata": {},
   "source": [
    "- **from...import语句**"
   ]
  },
  {
   "cell_type": "markdown",
   "metadata": {},
   "source": [
    "从模块中导入一个指定的部分到当前命名空间中"
   ]
  },
  {
   "cell_type": "code",
   "execution_count": 12,
   "metadata": {},
   "outputs": [
    {
     "data": {
      "text/plain": [
       "1.4142135623730951"
      ]
     },
     "execution_count": 12,
     "metadata": {},
     "output_type": "execute_result"
    }
   ],
   "source": [
    "from math import sqrt   \n",
    "sqrt(2)"
   ]
  },
  {
   "cell_type": "markdown",
   "metadata": {},
   "source": [
    "- 模块可以导入其他模块，在一个模块的最前面使用import来导入一个模块。  \n",
    "- 每个模块有各自独立的符号表，在模块内部为所有的函数当作全局符号表来使用，不会与其他用户的全局变量搞混。"
   ]
  },
  {
   "cell_type": "markdown",
   "metadata": {},
   "source": [
    "- **name属性**"
   ]
  },
  {
   "cell_type": "markdown",
   "metadata": {},
   "source": [
    "每个模块都有一个\\_\\_name\\_\\_属性（注意是两个下划线），当其值是'\\_\\_main\\_\\_'时，表面该模块自身在运行，否则是被引入，被引入时__name__属性是模块自己的名字。"
   ]
  },
  {
   "cell_type": "code",
   "execution_count": 123,
   "metadata": {},
   "outputs": [
    {
     "name": "stdout",
     "output_type": "stream",
     "text": [
      "1\n"
     ]
    }
   ],
   "source": [
    "if __name__ == '__main__':\n",
    "    print(1)"
   ]
  },
  {
   "cell_type": "markdown",
   "metadata": {},
   "source": [
    "通过\\_\\_name\\_\\_属性可以控制模块中的某一程序块仅在该模块自身运行时执行"
   ]
  },
  {
   "cell_type": "markdown",
   "metadata": {},
   "source": [
    "- **dir()函数**"
   ]
  },
  {
   "cell_type": "markdown",
   "metadata": {},
   "source": [
    "dir()函数可以找到模块内定义的所有名称"
   ]
  },
  {
   "cell_type": "markdown",
   "metadata": {},
   "source": [
    "- **包**"
   ]
  },
  {
   "cell_type": "markdown",
   "metadata": {},
   "source": [
    "包是一种管理Python模块命名空间的形式，采用点模块名称：A.B表示一个包A中的子模块B  \n",
    "采用点模块名称形式可以允许不同库之间的模块重名情况的出现"
   ]
  },
  {
   "cell_type": "markdown",
   "metadata": {},
   "source": [
    "假设一个包结构如下："
   ]
  },
  {
   "attachments": {
    "image.png": {
     "image/png": "[encoded data removed]"
    }
   },
   "cell_type": "markdown",
   "metadata": {},
   "source": [
    "![image.png](attachment:image.png)"
   ]
  },
  {
   "cell_type": "markdown",
   "metadata": {},
   "source": [
    "- 目录只有包含一个叫做\\_\\_init\\_\\_.py的文件才会被认作是一个包\n",
    "- 用户可以导入包里的一个子模块：from sound.effects import echo\n",
    "- from package import item语句中item对应的可以是包里面的子包、子模块或函数、类、变量"
   ]
  },
  {
   "cell_type": "markdown",
   "metadata": {},
   "source": [
    "## 11. Python输入输出"
   ]
  },
  {
   "cell_type": "markdown",
   "metadata": {},
   "source": [
    "三种输出值方式：\n",
    "- 表达式语句\n",
    "- print()函数\n",
    "- 文件对象的write()方法"
   ]
  },
  {
   "cell_type": "markdown",
   "metadata": {},
   "source": [
    "### 11.1 格式化输出"
   ]
  },
  {
   "cell_type": "code",
   "execution_count": 46,
   "metadata": {},
   "outputs": [
    {
     "name": "stdout",
     "output_type": "stream",
     "text": [
      "10\n",
      "10.1\n",
      "1.000000e+04\n",
      "10 10.1 1.000000e+04\n",
      "abc\n",
      "运算的结果为19\n"
     ]
    }
   ],
   "source": [
    "num1 = 10\n",
    "print('%d' %num1)     # 整数输出\n",
    "num2 = 10.11        \n",
    "print('%.1f' %num2)   # 浮点数输出，保留一位小数\n",
    "num3 = 10000\n",
    "print('%e' %num3)     # 科学计数法输出\n",
    "print('%d %.1f %e'%(num1, num2, num3))   #同时输出多个数字\n",
    "\n",
    "s = 'abc'\n",
    "print('%s' %s)        # 字符串输出\n",
    "print('运算的结果为%d' %19)"
   ]
  },
  {
   "cell_type": "markdown",
   "metadata": {},
   "source": [
    "- **format函数**"
   ]
  },
  {
   "cell_type": "markdown",
   "metadata": {},
   "source": [
    "其基本语法是通过{}和:来代替%"
   ]
  },
  {
   "cell_type": "markdown",
   "metadata": {},
   "source": [
    "- 括号及其里面的字符 (称作格式化字段) 将会被 format() 中的参数替换"
   ]
  },
  {
   "cell_type": "code",
   "execution_count": 51,
   "metadata": {},
   "outputs": [
    {
     "name": "stdout",
     "output_type": "stream",
     "text": [
      "hello world\n"
     ]
    }
   ],
   "source": [
    "print(\"{} {}\".format(\"hello\", \"world\")  )"
   ]
  },
  {
   "cell_type": "markdown",
   "metadata": {},
   "source": [
    "- 在括号中的数字用于指向传入对象在format()中的位置"
   ]
  },
  {
   "cell_type": "code",
   "execution_count": 72,
   "metadata": {},
   "outputs": [
    {
     "name": "stdout",
     "output_type": "stream",
     "text": [
      "output: hello world\n"
     ]
    }
   ],
   "source": [
    "print('output: {1} {0}'.format('world', 'hello'))"
   ]
  },
  {
   "cell_type": "markdown",
   "metadata": {},
   "source": [
    "- 在 format() 中使用关键字参数, 它们的值会指向使用该名字的参数 "
   ]
  },
  {
   "cell_type": "code",
   "execution_count": 54,
   "metadata": {},
   "outputs": [
    {
     "name": "stdout",
     "output_type": "stream",
     "text": [
      "hello world\n"
     ]
    }
   ],
   "source": [
    "print('{first} {next}'.format(first='hello', next='world'))"
   ]
  },
  {
   "cell_type": "markdown",
   "metadata": {},
   "source": [
    "可选项:和格式标识符可以跟着字段名，从而对值进行更好的格式化"
   ]
  },
  {
   "cell_type": "code",
   "execution_count": 61,
   "metadata": {},
   "outputs": [
    {
     "name": "stdout",
     "output_type": "stream",
     "text": [
      "1.2\n"
     ]
    }
   ],
   "source": [
    "print('{0:.1f}'.format(1.23))     # 此处字段名可以省略"
   ]
  },
  {
   "cell_type": "markdown",
   "metadata": {},
   "source": [
    "### 11.2 读取键盘输入"
   ]
  },
  {
   "cell_type": "markdown",
   "metadata": {},
   "source": [
    "使用input()接受标准输入数据，返回一个字符串"
   ]
  },
  {
   "cell_type": "code",
   "execution_count": 62,
   "metadata": {},
   "outputs": [
    {
     "name": "stdout",
     "output_type": "stream",
     "text": [
      "123\n"
     ]
    }
   ],
   "source": [
    "a = input()     # input接受单个输入"
   ]
  },
  {
   "cell_type": "code",
   "execution_count": 63,
   "metadata": {},
   "outputs": [
    {
     "data": {
      "text/plain": [
       "'123'"
      ]
     },
     "execution_count": 63,
     "metadata": {},
     "output_type": "execute_result"
    }
   ],
   "source": [
    "a"
   ]
  },
  {
   "cell_type": "code",
   "execution_count": 9,
   "metadata": {},
   "outputs": [
    {
     "name": "stdout",
     "output_type": "stream",
     "text": [
      "1 2 3\n"
     ]
    }
   ],
   "source": [
    "a,b,c = input().split(' ')  #input 接受多个输入（需用空格隔开）"
   ]
  },
  {
   "cell_type": "code",
   "execution_count": 10,
   "metadata": {},
   "outputs": [
    {
     "data": {
      "text/plain": [
       "6"
      ]
     },
     "execution_count": 10,
     "metadata": {},
     "output_type": "execute_result"
    }
   ],
   "source": [
    "int(a)+int(b)+int(c)     # 如果想进行运算要先进行类型转换"
   ]
  },
  {
   "cell_type": "markdown",
   "metadata": {},
   "source": [
    "### 11.3 读、写文件"
   ]
  },
  {
   "cell_type": "markdown",
   "metadata": {},
   "source": [
    "使用open()函数：open(filename, mode)，返回一个file对象"
   ]
  },
  {
   "cell_type": "markdown",
   "metadata": {},
   "source": [
    "- filename：包含了你要访问的文件名称的字符串值（文件路径）\n",
    "- mode：打开文件的模式（默认为只读r）"
   ]
  },
  {
   "attachments": {
    "image.png": {
     "image/png": "[encoded data removed]"
    }
   },
   "cell_type": "markdown",
   "metadata": {},
   "source": [
    "![image.png](attachment:image.png)"
   ]
  },
  {
   "cell_type": "code",
   "execution_count": 26,
   "metadata": {},
   "outputs": [],
   "source": [
    "f = open(\"foo.txt\", \"w\")     # 测试支持.txt, .md, .doc\n",
    "                             # 直接写文件名默认是在当前路径下\n",
    "\n",
    "f.write( \"Python 是一个非常好的语言。\\n是的，的确非常好!!\\n\" )\n",
    "\n",
    "# 关闭打开的文件\n",
    "f.close()"
   ]
  },
  {
   "cell_type": "markdown",
   "metadata": {},
   "source": [
    "- **文件对象的方法**"
   ]
  },
  {
   "cell_type": "markdown",
   "metadata": {},
   "source": [
    "- f.read()：读取文件内容  \n",
    "返回一个字符串"
   ]
  },
  {
   "cell_type": "code",
   "execution_count": 90,
   "metadata": {},
   "outputs": [
    {
     "name": "stdout",
     "output_type": "stream",
     "text": [
      "Python 是一个非常好的语言。\n",
      "是的，的确非常好!!\n",
      "\n"
     ]
    }
   ],
   "source": [
    "f = open(\"D:/Jupyter Notebook/Learning/foo.txt\", \"r\")\n",
    "\n",
    "str = f.read()\n",
    "print(str)\n",
    "\n",
    "# 关闭打开的文件\n",
    "f.close()"
   ]
  },
  {
   "cell_type": "markdown",
   "metadata": {},
   "source": [
    "- f.write()：向文件写入内容  \n",
    "f.write(string)将string写入到文件中，然后返回写入的字符数"
   ]
  },
  {
   "cell_type": "code",
   "execution_count": 91,
   "metadata": {},
   "outputs": [
    {
     "name": "stdout",
     "output_type": "stream",
     "text": [
      "29\n"
     ]
    }
   ],
   "source": [
    "f = open(\"D:/Jupyter Notebook/Learning/foo.txt\", \"w\")\n",
    "\n",
    "num = f.write( \"Python 是一个非常好的语言。\\n是的，的确非常好!!\\n\" )\n",
    "print(num)\n",
    "# 关闭打开的文件\n",
    "f.close()"
   ]
  },
  {
   "cell_type": "markdown",
   "metadata": {},
   "source": [
    "- with关键字  \n",
    "使用with关键字可以在处理文件对象结束后自动关闭文件"
   ]
  },
  {
   "cell_type": "code",
   "execution_count": 94,
   "metadata": {},
   "outputs": [
    {
     "data": {
      "text/plain": [
       "True"
      ]
     },
     "execution_count": 94,
     "metadata": {},
     "output_type": "execute_result"
    }
   ],
   "source": [
    "with open('D:/Jupyter Notebook/Learning/foo.txt', 'r') as f:\n",
    "    read_data = f.read()\n",
    "f.closed"
   ]
  },
  {
   "cell_type": "markdown",
   "metadata": {},
   "source": [
    "- **pickle模块**"
   ]
  },
  {
   "cell_type": "markdown",
   "metadata": {},
   "source": [
    "pickle模块可以实现基本的数据序列和反序列化：  \n",
    "- 序列化操作可以将程序中运行的对象信息保存到文件中，永久存储\n",
    "- 反序列化操作可以从文件中创建上一次程序保存的对象"
   ]
  },
  {
   "cell_type": "code",
   "execution_count": 1,
   "metadata": {},
   "outputs": [
    {
     "data": {
      "text/plain": [
       "{'a': 1, 'b': 2}"
      ]
     },
     "execution_count": 1,
     "metadata": {},
     "output_type": "execute_result"
    }
   ],
   "source": [
    "import pickle\n",
    "data = {'a': 1, 'b': 2}\n",
    "with open(\"output.pkl\", \"wb\") as f:\n",
    "    pickle.dump(data, f)            # 保存data至pkl文件\n",
    "\n",
    "with open('output.pkl', 'rb') as f:\n",
    "    data_r = pickle.load(f)       # 从pkl文件读取data\n",
    "data_r "
   ]
  },
  {
   "cell_type": "markdown",
   "metadata": {},
   "source": [
    "## 12. Python File方法"
   ]
  },
  {
   "cell_type": "markdown",
   "metadata": {},
   "source": [
    "**1. open()方法**"
   ]
  },
  {
   "cell_type": "markdown",
   "metadata": {},
   "source": [
    "open方法用于打开一个文件，并返回文件对象  \n",
    "使用open()方法一定要保证关闭文件对象，即调用close()方法  \n",
    "open()函数常用形式是接受两个参数：文件名（file），模式（mode）"
   ]
  },
  {
   "cell_type": "code",
   "execution_count": 3,
   "metadata": {},
   "outputs": [],
   "source": [
    "file = open('Pandas.ipynb', mode='r')\n",
    "file.close()"
   ]
  },
  {
   "cell_type": "markdown",
   "metadata": {},
   "source": [
    "**2. file对象**"
   ]
  },
  {
   "cell_type": "code",
   "execution_count": null,
   "metadata": {},
   "outputs": [],
   "source": [
    "file.close()                # 关闭文件\n",
    "file.read([size])           # 从文件读取指定的字节数\n",
    "file.write(str)             # 将字符串写入文件"
   ]
  },
  {
   "cell_type": "markdown",
   "metadata": {},
   "source": [
    "## 13. Python OS"
   ]
  },
  {
   "cell_type": "markdown",
   "metadata": {},
   "source": [
    "OS模块提供了丰富的方法用于处理文件和目录"
   ]
  },
  {
   "cell_type": "markdown",
   "metadata": {},
   "source": [
    "**1. 改变当前工作目录**"
   ]
  },
  {
   "cell_type": "code",
   "execution_count": 95,
   "metadata": {},
   "outputs": [
    {
     "data": {
      "text/plain": [
       "'D:\\\\Jupyter Notebook\\\\Learning'"
      ]
     },
     "execution_count": 95,
     "metadata": {},
     "output_type": "execute_result"
    }
   ],
   "source": [
    "import os\n",
    "path = '/Jupyter Notebook/Learning'\n",
    "os.chdir(path)    # 更改工作目录为path\n",
    "os.getcwd()       # 获取当前工作目录"
   ]
  },
  {
   "cell_type": "markdown",
   "metadata": {},
   "source": [
    "**2. 显示文件夹下包含的文件名列表**"
   ]
  },
  {
   "cell_type": "code",
   "execution_count": 46,
   "metadata": {},
   "outputs": [
    {
     "data": {
      "text/plain": [
       "['.ipynb_checkpoints',\n",
       " 'Leetcode_Leaning.ipynb',\n",
       " 'Leetcode_Probelm_Array.ipynb',\n",
       " 'Leetcode_Problem_DP.ipynb',\n",
       " 'Matplotlib.ipynb',\n",
       " 'Pandas.ipynb',\n",
       " 'Python.ipynb',\n",
       " 'sklearn.ipynb']"
      ]
     },
     "execution_count": 46,
     "metadata": {},
     "output_type": "execute_result"
    }
   ],
   "source": [
    "os.listdir(path)\n",
    "os.listdir(os.getcwd())         # 显示当前工作路径下的全部文件名"
   ]
  },
  {
   "cell_type": "markdown",
   "metadata": {},
   "source": [
    "**3. 创建目录**"
   ]
  },
  {
   "cell_type": "code",
   "execution_count": 24,
   "metadata": {},
   "outputs": [],
   "source": [
    "path = '/dir/test'        \n",
    "os.makedirs(path)        # 递归创建目录，若dir文件夹不存在，则先创建dir，再创建二级目录test"
   ]
  },
  {
   "cell_type": "code",
   "execution_count": 25,
   "metadata": {},
   "outputs": [],
   "source": [
    "path = '/Jupyter Notebook/test'   \n",
    "os.mkdir(path)           # 只创建最后一级目录，若上级目录不存在，则报错"
   ]
  },
  {
   "cell_type": "markdown",
   "metadata": {},
   "source": [
    "**4. 删除指定路径下的文件**"
   ]
  },
  {
   "cell_type": "code",
   "execution_count": 30,
   "metadata": {},
   "outputs": [],
   "source": [
    "f = open(\"foo.txt\", \"w\") \n",
    "f.write( \"Python 是一个非常好的语言。\\n是的，的确非常好!!\\n\" )\n",
    "f.close()\n",
    "os.remove('foo.txt')           # 删除当前工作路径下的foo.txt文件"
   ]
  },
  {
   "cell_type": "markdown",
   "metadata": {},
   "source": [
    "**5. 删除path指定的空目录**"
   ]
  },
  {
   "cell_type": "code",
   "execution_count": 41,
   "metadata": {},
   "outputs": [],
   "source": [
    "path = '/dir/test'        \n",
    "os.makedirs(path) \n",
    "os.rmdir('/dir/test')   #必须为最底层目录，否则目录不为空  "
   ]
  },
  {
   "cell_type": "markdown",
   "metadata": {},
   "source": [
    "**6. 重命名文件/目录**"
   ]
  },
  {
   "cell_type": "code",
   "execution_count": 58,
   "metadata": {},
   "outputs": [
    {
     "name": "stdout",
     "output_type": "stream",
     "text": [
      "['.ipynb_checkpoints', 'CNOOC', 'Learning', 'Model', 'sophon', 't', 'test.ipynb', 'UIUC-Data-Science']\n"
     ]
    }
   ],
   "source": [
    "path = '/Jupyter Notebook'\n",
    "\n",
    "os.rename('tianchi', 't')             # 将目录tianchi更名为t\n",
    "print(os.listdir(os.getcwd())) \n",
    "os.rename('t', 'tianchi')\n",
    "\n",
    "path = '/Jupyter Notebook/Learning'\n",
    "os.chdir(path)   "
   ]
  },
  {
   "cell_type": "markdown",
   "metadata": {},
   "source": [
    "**7. os.path()模块**"
   ]
  },
  {
   "cell_type": "markdown",
   "metadata": {},
   "source": [
    "主要用于获取文件的属性"
   ]
  },
  {
   "cell_type": "code",
   "execution_count": 84,
   "metadata": {},
   "outputs": [
    {
     "name": "stdout",
     "output_type": "stream",
     "text": [
      "D:\\Jupyter Notebook\\Learning\\Python.ipynb\n",
      "time.struct_time(tm_year=2021, tm_mon=8, tm_mday=31, tm_hour=6, tm_min=10, tm_sec=14, tm_wday=1, tm_yday=243, tm_isdst=0)\n",
      "time.struct_time(tm_year=2021, tm_mon=8, tm_mday=8, tm_hour=10, tm_min=8, tm_sec=17, tm_wday=6, tm_yday=220, tm_isdst=0)\n",
      "195235\n",
      "('/Jupyter Notebook/Learning', 'Python.ipynb')\n",
      "False\n",
      "True\n"
     ]
    }
   ],
   "source": [
    "import time\n",
    "path = '/Jupyter Notebook/Learning/Python.ipynb'\n",
    "print(os.path.abspath(path))             # 输出绝对路径\n",
    "print(time.gmtime(os.path.getmtime(path)))     # 输出最近文件修改时间\n",
    "print(time.gmtime(os.path.getctime(path)))     # 输出路径创建时间\n",
    "print(os.path.getsize(path))             # 输出文件大小（字节为单位）\n",
    "print(os.path.split(path))               # 分割路径为文件名和目录名，返回一个元组\n",
    "print(os.path.splitext(path))            # 分割路径中的文件名与拓展名         \n",
    "print(os.path.isdir(path))               # 判断路径是否为目录\n",
    "print(os.path.isfile(path))              # 判断路径是否为文件"
   ]
  },
  {
   "cell_type": "markdown",
   "metadata": {},
   "source": [
    "**一个小demo，用于查找指定路径下的所有视频文件名**"
   ]
  },
  {
   "cell_type": "code",
   "execution_count": 96,
   "metadata": {},
   "outputs": [
    {
     "data": {
      "text/plain": [
       "['大撒把HD国语.mkv',\n",
       " '打左灯，向右转Signal Left, Turn Right 1996 WEB-DL 1080p H264 AAC-国语.mkv',\n",
       " '轮回.Samsara.1988.D5.HALFCD-TLF.mkv',\n",
       " '黄海(导演剪切版).The.Yellow.Sea.DC.2010.BD-1080p.X264.AAC-99Mp4.mp4']"
      ]
     },
     "execution_count": 96,
     "metadata": {},
     "output_type": "execute_result"
    }
   ],
   "source": [
    "def searchvideo(path, target):\n",
    "    video_list = []\n",
    "    for each_file in os.listdir(path):\n",
    "        ext = os.path.splitext(each_file)[1]\n",
    "        if ext in target: \n",
    "            video_list.append(each_file)\n",
    "    return video_list\n",
    "\n",
    "path = \"D:/Thunder/迅雷下载\"\n",
    "target = ['.mp4', '.avi', '.rmvb', '.mkv']\n",
    "searchvideo(path, target)"
   ]
  },
  {
   "cell_type": "markdown",
   "metadata": {},
   "source": [
    "## 14. Python错误和异常"
   ]
  },
  {
   "cell_type": "markdown",
   "metadata": {},
   "source": [
    "**1. assert（断言）**"
   ]
  },
  {
   "cell_type": "markdown",
   "metadata": {},
   "source": [
    "用于判断一个表达式，在表达式条件为false的时候触发异常；  \n",
    "断言在条件不满足程序运行的情况下直接返回错误，不必等待程序运行后出现崩溃的情况"
   ]
  },
  {
   "cell_type": "code",
   "execution_count": 9,
   "metadata": {},
   "outputs": [
    {
     "ename": "AssertionError",
     "evalue": "",
     "output_type": "error",
     "traceback": [
      "\u001b[1;31m---------------------------------------------------------------------------\u001b[0m",
      "\u001b[1;31mAssertionError\u001b[0m                            Traceback (most recent call last)",
      "\u001b[1;32m<ipython-input-9-cdb2419cc773>\u001b[0m in \u001b[0;36m<module>\u001b[1;34m\u001b[0m\n\u001b[0;32m      1\u001b[0m \u001b[1;32mimport\u001b[0m \u001b[0msys\u001b[0m\u001b[1;33m\u001b[0m\u001b[1;33m\u001b[0m\u001b[0m\n\u001b[1;32m----> 2\u001b[1;33m \u001b[1;32massert\u001b[0m\u001b[1;33m(\u001b[0m\u001b[1;34m'linux'\u001b[0m \u001b[1;32min\u001b[0m \u001b[0msys\u001b[0m\u001b[1;33m.\u001b[0m\u001b[0mplatform\u001b[0m\u001b[1;33m)\u001b[0m\u001b[1;33m\u001b[0m\u001b[1;33m\u001b[0m\u001b[0m\n\u001b[0m",
      "\u001b[1;31mAssertionError\u001b[0m: "
     ]
    }
   ],
   "source": [
    "import sys\n",
    "assert('linux' in sys.platform)"
   ]
  },
  {
   "cell_type": "markdown",
   "metadata": {},
   "source": [
    "**2. 语法错误**"
   ]
  },
  {
   "cell_type": "code",
   "execution_count": 10,
   "metadata": {},
   "outputs": [
    {
     "ename": "SyntaxError",
     "evalue": "invalid syntax (<ipython-input-10-ec071b69b4d7>, line 1)",
     "output_type": "error",
     "traceback": [
      "\u001b[1;36m  File \u001b[1;32m\"<ipython-input-10-ec071b69b4d7>\"\u001b[1;36m, line \u001b[1;32m1\u001b[0m\n\u001b[1;33m    while True\u001b[0m\n\u001b[1;37m              ^\u001b[0m\n\u001b[1;31mSyntaxError\u001b[0m\u001b[1;31m:\u001b[0m invalid syntax\n"
     ]
    }
   ],
   "source": [
    "while True\n",
    "print('Hello world')"
   ]
  },
  {
   "cell_type": "markdown",
   "metadata": {},
   "source": [
    "报错信息中指出了出错的一行，并在最先找到错误的位置标记了箭头"
   ]
  },
  {
   "cell_type": "markdown",
   "metadata": {},
   "source": [
    "**3. 异常**"
   ]
  },
  {
   "cell_type": "markdown",
   "metadata": {},
   "source": [
    "在运行期检测到的错误被称为异常；大多数异常都不会被程序处理，都以错误信息的形式打印处理"
   ]
  },
  {
   "cell_type": "code",
   "execution_count": 12,
   "metadata": {},
   "outputs": [
    {
     "ename": "ZeroDivisionError",
     "evalue": "division by zero",
     "output_type": "error",
     "traceback": [
      "\u001b[1;31m---------------------------------------------------------------------------\u001b[0m",
      "\u001b[1;31mZeroDivisionError\u001b[0m                         Traceback (most recent call last)",
      "\u001b[1;32m<ipython-input-12-9e1622b385b6>\u001b[0m in \u001b[0;36m<module>\u001b[1;34m\u001b[0m\n\u001b[1;32m----> 1\u001b[1;33m \u001b[1;36m1\u001b[0m\u001b[1;33m/\u001b[0m\u001b[1;36m0\u001b[0m\u001b[1;33m\u001b[0m\u001b[1;33m\u001b[0m\u001b[0m\n\u001b[0m",
      "\u001b[1;31mZeroDivisionError\u001b[0m: division by zero"
     ]
    }
   ],
   "source": [
    "1/0"
   ]
  },
  {
   "cell_type": "markdown",
   "metadata": {},
   "source": [
    "**4. 异常处理**"
   ]
  },
  {
   "cell_type": "markdown",
   "metadata": {},
   "source": [
    "（1）try/except:  \n",
    "可以使用try/except进行异常捕捉"
   ]
  },
  {
   "attachments": {
    "image.png": {
     "image/png": "[encoded data removed]"
    }
   },
   "cell_type": "markdown",
   "metadata": {},
   "source": [
    "![image.png](attachment:image.png)"
   ]
  },
  {
   "cell_type": "code",
   "execution_count": 20,
   "metadata": {},
   "outputs": [
    {
     "name": "stdout",
     "output_type": "stream",
     "text": [
      "请输入一个数字： a\n",
      "输入的不是数字！\n",
      "请输入一个数字： 1\n"
     ]
    }
   ],
   "source": [
    "while True:\n",
    "    try:\n",
    "        x = int(input('请输入一个数字： '))\n",
    "        break\n",
    "    except ValueError:\n",
    "        print('输入的不是数字！')"
   ]
  },
  {
   "cell_type": "markdown",
   "metadata": {},
   "source": [
    "- 首先执行try子句\n",
    "- 如果没有异常发生，忽略except语句，try子句执行后结束\n",
    "- 如果在执行try子句的过程中发生了异常，那么try子句余下的部分将被忽略；如果异常的类型和except之后的名称相符，那么对应的except子句将被执行"
   ]
  },
  {
   "cell_type": "markdown",
   "metadata": {},
   "source": [
    "（2）try/except...else"
   ]
  },
  {
   "attachments": {
    "image.png": {
     "image/png": "[encoded data removed]"
    }
   },
   "cell_type": "markdown",
   "metadata": {},
   "source": [
    "![image.png](attachment:image.png)"
   ]
  },
  {
   "cell_type": "markdown",
   "metadata": {},
   "source": [
    "（3）try-finally"
   ]
  },
  {
   "attachments": {
    "image.png": {
     "image/png": "[encoded data removed]"
    }
   },
   "cell_type": "markdown",
   "metadata": {},
   "source": [
    "![image.png](attachment:image.png)"
   ]
  },
  {
   "cell_type": "markdown",
   "metadata": {},
   "source": [
    "（4）抛出异常"
   ]
  },
  {
   "cell_type": "markdown",
   "metadata": {},
   "source": [
    "使用raise语句抛出一个指定的异常"
   ]
  },
  {
   "cell_type": "code",
   "execution_count": 23,
   "metadata": {},
   "outputs": [
    {
     "ename": "Exception",
     "evalue": "x 不能大于 5。x 的值为: 10",
     "output_type": "error",
     "traceback": [
      "\u001b[1;31m---------------------------------------------------------------------------\u001b[0m",
      "\u001b[1;31mException\u001b[0m                                 Traceback (most recent call last)",
      "\u001b[1;32m<ipython-input-23-e00bf68fb93c>\u001b[0m in \u001b[0;36m<module>\u001b[1;34m\u001b[0m\n\u001b[0;32m      1\u001b[0m \u001b[0mx\u001b[0m \u001b[1;33m=\u001b[0m \u001b[1;36m10\u001b[0m\u001b[1;33m\u001b[0m\u001b[1;33m\u001b[0m\u001b[0m\n\u001b[0;32m      2\u001b[0m \u001b[1;32mif\u001b[0m \u001b[0mx\u001b[0m \u001b[1;33m>\u001b[0m \u001b[1;36m5\u001b[0m\u001b[1;33m:\u001b[0m\u001b[1;33m\u001b[0m\u001b[1;33m\u001b[0m\u001b[0m\n\u001b[1;32m----> 3\u001b[1;33m     \u001b[1;32mraise\u001b[0m \u001b[0mException\u001b[0m\u001b[1;33m(\u001b[0m\u001b[1;34m'x 不能大于 5。x 的值为: {}'\u001b[0m\u001b[1;33m.\u001b[0m\u001b[0mformat\u001b[0m\u001b[1;33m(\u001b[0m\u001b[0mx\u001b[0m\u001b[1;33m)\u001b[0m\u001b[1;33m)\u001b[0m\u001b[1;33m\u001b[0m\u001b[1;33m\u001b[0m\u001b[0m\n\u001b[0m",
      "\u001b[1;31mException\u001b[0m: x 不能大于 5。x 的值为: 10"
     ]
    }
   ],
   "source": [
    "x = 10\n",
    "if x > 5:\n",
    "    raise Exception('x 不能大于 5。x 的值为: {}'.format(x))"
   ]
  },
  {
   "cell_type": "markdown",
   "metadata": {},
   "source": [
    "## 15、Python面向对象"
   ]
  },
  {
   "cell_type": "markdown",
   "metadata": {},
   "source": [
    "### 15.1 基本概念"
   ]
  },
  {
   "cell_type": "markdown",
   "metadata": {},
   "source": [
    "- 类（Class）：用来描述具有相同属性和方法的对象的集合；其定义了该集合中每个对象所共有的属性和方法。对象是类的实例\n",
    "- 方法：类中定义的函数\n",
    "- 类变量：类变量在整个实例化的对象中是公用的，类变量定义在类中、**函数体外**。类变量通常不作为实例变量使用\n",
    "- 数据成员：类变量或者实例变量用于处理类及其实例对象的相关的数据\n",
    "- 方法重写：如果从父类继承的方法不能满足子类的需求，可以对其进行改写，称为方法的覆盖/重写\n",
    "- 局部变量：定义在方法中的变量，只作用于当前实例的类\n",
    "- 实例变量：在类的声明中，通过变量来表示的属性；是一个用**self**修饰的变量\n",
    "- 继承：即一个派生类继承基类的字段和方法\n",
    "- 实例化：创建一个类的实例，类的具体对象\n",
    "- 对象：通过类定义的数据结构实例。对象包括两个数据成员（类变量和实例变量）和方法"
   ]
  },
  {
   "cell_type": "markdown",
   "metadata": {},
   "source": [
    "### 15.2 类对象的创建"
   ]
  },
  {
   "cell_type": "code",
   "execution_count": 104,
   "metadata": {},
   "outputs": [
    {
     "name": "stdout",
     "output_type": "stream",
     "text": [
      "123\n",
      "1\n"
     ]
    }
   ],
   "source": [
    "class myclass:\n",
    "    i = 123\n",
    "    def f(self):\n",
    "        self.j = 1\n",
    "        return self.j\n",
    "x = myclass()\n",
    "print(x.i)\n",
    "print(x.f())"
   ]
  },
  {
   "cell_type": "markdown",
   "metadata": {},
   "source": [
    "**构造方法\\_\\_init\\_\\_()**"
   ]
  },
  {
   "cell_type": "markdown",
   "metadata": {},
   "source": [
    "构造方法在类实例化时会自动调用，实例化时的参数会传递到构造方法上"
   ]
  },
  {
   "cell_type": "code",
   "execution_count": 40,
   "metadata": {},
   "outputs": [
    {
     "name": "stdout",
     "output_type": "stream",
     "text": [
      "2.0 + 2i\n"
     ]
    }
   ],
   "source": [
    "class complex:\n",
    "    def __init__(self, real=1, imag=1):   # 可以有默认参数\n",
    "        self.r = real\n",
    "        self.i = imag\n",
    "x = complex(2, 2)\n",
    "print('{0:.1f} + {1}i'.format(x.i, x.r))"
   ]
  },
  {
   "cell_type": "markdown",
   "metadata": {},
   "source": [
    "**self**"
   ]
  },
  {
   "cell_type": "markdown",
   "metadata": {},
   "source": [
    "类的方法必须有一个额外的**第一个参数**名称self，self代表的是类的实例  \n",
    "（self不是python关键字，也可以换成其他名称，但按惯例写作self）"
   ]
  },
  {
   "cell_type": "markdown",
   "metadata": {},
   "source": [
    "### 15.3 继承"
   ]
  },
  {
   "cell_type": "markdown",
   "metadata": {},
   "source": [
    "**class DerivedClassName(BaseClassName):**   \n",
    "子类会继承父类的属性和方法  \n",
    "父类必须与派生类定义在一个作用域内，除了类，还可以用表达式：    \n",
    "**class DerivedClassName(modname.BaseClassName):**"
   ]
  },
  {
   "cell_type": "code",
   "execution_count": 93,
   "metadata": {},
   "outputs": [],
   "source": [
    "# 父类定义\n",
    "class people:\n",
    "    age = 0\n",
    "    __weight = 0    # 私有属性，在类外部无法直接访问\n",
    "    def __init__(self, a, w):\n",
    "        self.age = a\n",
    "        self.__weight = w\n",
    "    def speak(self):\n",
    "        print('我%d岁' %self.age)\n",
    "        \n",
    "# 单继承\n",
    "class student(people):\n",
    "    grade = ''\n",
    "    def __init__(self, a, w, g):\n",
    "        people.__init__(self, a, w)    # 调用父类的泛函\n",
    "        self.grade = g\n",
    "    def speak(self):                   # 覆写父类的方法\n",
    "        print('我%d岁，在读%d年级' %(self.age, self.grade))"
   ]
  },
  {
   "cell_type": "code",
   "execution_count": 94,
   "metadata": {},
   "outputs": [],
   "source": [
    "p1 = people(1,2)\n",
    "p2 = student(1,2,3)"
   ]
  },
  {
   "cell_type": "code",
   "execution_count": 97,
   "metadata": {},
   "outputs": [
    {
     "name": "stdout",
     "output_type": "stream",
     "text": [
      "我1岁\n",
      "我1岁，在读3年级\n",
      "我1岁\n"
     ]
    }
   ],
   "source": [
    "p1.speak()\n",
    "p2.speak()\n",
    "super(student, p2).speak()             # 重写父类方法后调用父类的同名方法"
   ]
  },
  {
   "cell_type": "markdown",
   "metadata": {},
   "source": [
    "### 15.4 类的属性和方法"
   ]
  },
  {
   "cell_type": "markdown",
   "metadata": {},
   "source": [
    "- **类的私有属性：**  \n",
    "\\_\\_private_attrs：两个下划线开头，声明该属性为私有，不能在类的外部被使用或直接访问。在类内使用时self.\\_\\_private_attrs\n",
    "- **类的私有方法：**  \n",
    "\\_\\_private_method：两个下划线开头，声明该方法为私有方法，不能在类外调用"
   ]
  },
  {
   "cell_type": "code",
   "execution_count": 111,
   "metadata": {},
   "outputs": [],
   "source": [
    "class myclass:\n",
    "    def __init__(self, a, b):\n",
    "        self.a = a\n",
    "        self.__a = b\n",
    "    def f(self):\n",
    "        print(self.a)\n",
    "        print(self.__a)\n",
    "        self.__f()\n",
    "    def __f(self):\n",
    "        print(self.__a)\n",
    "        print(self.a)"
   ]
  },
  {
   "cell_type": "code",
   "execution_count": 114,
   "metadata": {},
   "outputs": [
    {
     "name": "stdout",
     "output_type": "stream",
     "text": [
      "1\n",
      "2\n",
      "2\n",
      "1\n"
     ]
    }
   ],
   "source": [
    "c = myclass(1,2)\n",
    "c.f()"
   ]
  },
  {
   "cell_type": "markdown",
   "metadata": {},
   "source": [
    "- **类的静态方法：**  \n",
    "用@staticmethod装饰的不带self参数的方法叫做静态方法，类的静态方法可以没有参数，可以直接使用类名调用\n",
    "- **类的普通方法：**  \n",
    "默认有self参数，只能被对象调用\n",
    "- **类方法：**  \n",
    "用@classmethod装饰，默认有cls参数，可以被类和对象调用"
   ]
  },
  {
   "cell_type": "code",
   "execution_count": 124,
   "metadata": {},
   "outputs": [
    {
     "name": "stdout",
     "output_type": "stream",
     "text": [
      "静态方法\n",
      "静态方法\n",
      "普通方法\n",
      "<class '__main__.myclass'>\n",
      "类方法\n",
      "<class '__main__.myclass'>\n",
      "类方法\n"
     ]
    }
   ],
   "source": [
    "class myclass:\n",
    "    @staticmethod\n",
    "    def f1():\n",
    "        print('静态方法')\n",
    "    def f2(self):\n",
    "        print('普通方法')\n",
    "    @classmethod\n",
    "    def f3(cls):\n",
    "        print('类方法')\n",
    "c = myclass()\n",
    "c.f1()\n",
    "myclass.f1()\n",
    "c.f2()\n",
    "myclass.f3()\n",
    "c.f3()"
   ]
  },
  {
   "cell_type": "markdown",
   "metadata": {},
   "source": [
    "## 16. Python命名空间和作用域"
   ]
  },
  {
   "cell_type": "markdown",
   "metadata": {},
   "source": [
    "### 16.1 命名空间"
   ]
  },
  {
   "cell_type": "markdown",
   "metadata": {},
   "source": [
    "- 命名空间(Namespace)是从名称到对象的映射，大部分的命名空间都是通过 Python 字典来实现的。\n",
    "- 命名空间提供了在项目中避免名字冲突的一种方法。各个命名空间是独立的，没有任何关系的，所以一个命名空间中不能有重名，但不同的命名空间是可以重名而没有任何影响。"
   ]
  },
  {
   "cell_type": "markdown",
   "metadata": {},
   "source": [
    "Python共有三种命名空间：\n",
    "- **内置名称**：Python语言内置的名称，如函数名abs，异常名称BaseException等\n",
    "- **全局名称**：模块中定义的名称，记录了模块的变量（函数、类、其他导入的模块）\n",
    "- **局部名称**：函数（类）中定义的名称，记录了函数的变量（函数的参数、局部定义的变量）"
   ]
  },
  {
   "attachments": {
    "image.png": {
     "image/png": "[encoded data removed]"
    }
   },
   "cell_type": "markdown",
   "metadata": {},
   "source": [
    "![image.png](attachment:image.png)"
   ]
  },
  {
   "cell_type": "markdown",
   "metadata": {},
   "source": [
    "- **命名空间查找顺序:**     \n",
    "局部命名空间->全局命名空间->内置命名空间  \n",
    "如果找不到变量，则放弃查找并引发一个NameError"
   ]
  },
  {
   "cell_type": "markdown",
   "metadata": {},
   "source": [
    "### 16.2 作用域"
   ]
  },
  {
   "cell_type": "markdown",
   "metadata": {},
   "source": [
    "- 作用域是一个Python程序可以直接访问命名空间的正文区域\n",
    "- 在一个Python程序中，直接访问一个变量，会从内到外依次访问所有的作用域直到找到，但程序的变量不是在哪个位置都可以访问的，访问权限决定于这个变量是在哪里赋值的\n",
    "- 变量的作用域决定了在哪一部分程序可以访问哪个特定的变量名称"
   ]
  },
  {
   "cell_type": "markdown",
   "metadata": {},
   "source": [
    "Python共有4种作用域：  \n",
    "- 局部作用域（Local）：最内层，包含局部变量，如一个函数/方法内部\n",
    "- 闭包函数外的函数（Enclosing）：包含了非局部（non-local）也非全局（non-global）的变量，如一个函数/类内又包含了一个函数B，形成嵌套函数，那么对B中的名称来说，A中的作用域就为nonlocal\n",
    "- 全局作用域（Global）：当前脚本的最外层，如当前模块的全局变量\n",
    "- 内建作用域（Built-in）：包含了内建的变量/关键字等  \n",
    "\n",
    "**搜索顺序为：L->E->G->B**"
   ]
  },
  {
   "attachments": {
    "image.png": {
     "image/png": "[encoded data removed]"
    }
   },
   "cell_type": "markdown",
   "metadata": {},
   "source": [
    "![image.png](attachment:image.png)"
   ]
  },
  {
   "cell_type": "code",
   "execution_count": 134,
   "metadata": {},
   "outputs": [
    {
     "data": {
      "text/plain": [
       "['ArithmeticError',\n",
       " 'AssertionError',\n",
       " 'AttributeError',\n",
       " 'BaseException',\n",
       " 'BlockingIOError',\n",
       " 'BrokenPipeError',\n",
       " 'BufferError',\n",
       " 'BytesWarning',\n",
       " 'ChildProcessError',\n",
       " 'ConnectionAbortedError',\n",
       " 'ConnectionError',\n",
       " 'ConnectionRefusedError',\n",
       " 'ConnectionResetError',\n",
       " 'DeprecationWarning',\n",
       " 'EOFError',\n",
       " 'Ellipsis',\n",
       " 'EnvironmentError',\n",
       " 'Exception',\n",
       " 'False',\n",
       " 'FileExistsError',\n",
       " 'FileNotFoundError',\n",
       " 'FloatingPointError',\n",
       " 'FutureWarning',\n",
       " 'GeneratorExit',\n",
       " 'IOError',\n",
       " 'ImportError',\n",
       " 'ImportWarning',\n",
       " 'IndentationError',\n",
       " 'IndexError',\n",
       " 'InterruptedError',\n",
       " 'IsADirectoryError',\n",
       " 'KeyError',\n",
       " 'KeyboardInterrupt',\n",
       " 'LookupError',\n",
       " 'MemoryError',\n",
       " 'ModuleNotFoundError',\n",
       " 'NameError',\n",
       " 'None',\n",
       " 'NotADirectoryError',\n",
       " 'NotImplemented',\n",
       " 'NotImplementedError',\n",
       " 'OSError',\n",
       " 'OverflowError',\n",
       " 'PendingDeprecationWarning',\n",
       " 'PermissionError',\n",
       " 'ProcessLookupError',\n",
       " 'RecursionError',\n",
       " 'ReferenceError',\n",
       " 'ResourceWarning',\n",
       " 'RuntimeError',\n",
       " 'RuntimeWarning',\n",
       " 'StopAsyncIteration',\n",
       " 'StopIteration',\n",
       " 'SyntaxError',\n",
       " 'SyntaxWarning',\n",
       " 'SystemError',\n",
       " 'SystemExit',\n",
       " 'TabError',\n",
       " 'TimeoutError',\n",
       " 'True',\n",
       " 'TypeError',\n",
       " 'UnboundLocalError',\n",
       " 'UnicodeDecodeError',\n",
       " 'UnicodeEncodeError',\n",
       " 'UnicodeError',\n",
       " 'UnicodeTranslateError',\n",
       " 'UnicodeWarning',\n",
       " 'UserWarning',\n",
       " 'ValueError',\n",
       " 'Warning',\n",
       " 'WindowsError',\n",
       " 'ZeroDivisionError',\n",
       " '__IPYTHON__',\n",
       " '__build_class__',\n",
       " '__debug__',\n",
       " '__doc__',\n",
       " '__import__',\n",
       " '__loader__',\n",
       " '__name__',\n",
       " '__package__',\n",
       " '__spec__',\n",
       " 'abs',\n",
       " 'all',\n",
       " 'any',\n",
       " 'ascii',\n",
       " 'bin',\n",
       " 'bool',\n",
       " 'breakpoint',\n",
       " 'bytearray',\n",
       " 'bytes',\n",
       " 'callable',\n",
       " 'chr',\n",
       " 'classmethod',\n",
       " 'compile',\n",
       " 'complex',\n",
       " 'copyright',\n",
       " 'credits',\n",
       " 'delattr',\n",
       " 'dict',\n",
       " 'dir',\n",
       " 'display',\n",
       " 'divmod',\n",
       " 'enumerate',\n",
       " 'eval',\n",
       " 'exec',\n",
       " 'filter',\n",
       " 'float',\n",
       " 'format',\n",
       " 'frozenset',\n",
       " 'get_ipython',\n",
       " 'getattr',\n",
       " 'globals',\n",
       " 'hasattr',\n",
       " 'hash',\n",
       " 'help',\n",
       " 'hex',\n",
       " 'id',\n",
       " 'input',\n",
       " 'int',\n",
       " 'isinstance',\n",
       " 'issubclass',\n",
       " 'iter',\n",
       " 'len',\n",
       " 'license',\n",
       " 'list',\n",
       " 'locals',\n",
       " 'map',\n",
       " 'max',\n",
       " 'memoryview',\n",
       " 'min',\n",
       " 'next',\n",
       " 'object',\n",
       " 'oct',\n",
       " 'open',\n",
       " 'ord',\n",
       " 'pow',\n",
       " 'print',\n",
       " 'property',\n",
       " 'range',\n",
       " 'repr',\n",
       " 'reversed',\n",
       " 'round',\n",
       " 'set',\n",
       " 'setattr',\n",
       " 'slice',\n",
       " 'sorted',\n",
       " 'staticmethod',\n",
       " 'str',\n",
       " 'sum',\n",
       " 'super',\n",
       " 'tuple',\n",
       " 'type',\n",
       " 'vars',\n",
       " 'zip']"
      ]
     },
     "execution_count": 134,
     "metadata": {},
     "output_type": "execute_result"
    }
   ],
   "source": [
    "import builtins\n",
    "dir(builtins)"
   ]
  },
  {
   "cell_type": "markdown",
   "metadata": {},
   "source": [
    "### 16.3 全局变量和局部变量"
   ]
  },
  {
   "cell_type": "markdown",
   "metadata": {},
   "source": [
    "- 定义在函数内部的变量拥有一个局部作用域，定义在函数外的拥有全局作用域  \n",
    "- 局部变量只能在其被声明的函数内部访问，而全局变量可以在整个程序范围内访问。调用函数时，所有在函数内声明的变量名称都将被加入到作用域中"
   ]
  },
  {
   "cell_type": "code",
   "execution_count": 135,
   "metadata": {},
   "outputs": [
    {
     "name": "stdout",
     "output_type": "stream",
     "text": [
      "函数内是局部变量 :  30\n",
      "函数外是全局变量 :  0\n"
     ]
    }
   ],
   "source": [
    "total = 0 # 这是一个全局变量\n",
    "def sum(arg1, arg2):\n",
    "    total = arg1 + arg2 # total在这里是局部变量.\n",
    "    print(\"函数内是局部变量 : \", total)\n",
    "    return total\n",
    "\n",
    "sum(10, 20)\n",
    "print(\"函数外是全局变量 : \", total)"
   ]
  },
  {
   "cell_type": "markdown",
   "metadata": {},
   "source": [
    "### 16.4 global 和 nonlocal关键字"
   ]
  },
  {
   "cell_type": "markdown",
   "metadata": {},
   "source": [
    "用于在内部作用域中修改外部作用域的变量时"
   ]
  },
  {
   "cell_type": "code",
   "execution_count": 136,
   "metadata": {},
   "outputs": [
    {
     "name": "stdout",
     "output_type": "stream",
     "text": [
      "1\n",
      "123\n",
      "123\n"
     ]
    }
   ],
   "source": [
    "num = 1\n",
    "def fun1():\n",
    "    global num \n",
    "    print(num) \n",
    "    num = 123       # 修改全局变量的值\n",
    "    print(num)\n",
    "fun1()\n",
    "print(num)"
   ]
  },
  {
   "cell_type": "code",
   "execution_count": 139,
   "metadata": {},
   "outputs": [
    {
     "name": "stdout",
     "output_type": "stream",
     "text": [
      "1\n",
      "2\n",
      "2\n"
     ]
    }
   ],
   "source": [
    "def f1():\n",
    "    num = 1\n",
    "    def f2():\n",
    "        nonlocal num\n",
    "        print(num)\n",
    "        num = 2\n",
    "        print(num)\n",
    "    f2()\n",
    "    print(num)\n",
    "f1()   "
   ]
  },
  {
   "cell_type": "markdown",
   "metadata": {},
   "source": [
    "**注意：列表、字典是可变类型，在内部作用域可以直接修改变量值**"
   ]
  },
  {
   "cell_type": "code",
   "execution_count": 3,
   "metadata": {},
   "outputs": [
    {
     "name": "stdout",
     "output_type": "stream",
     "text": [
      "[0, 2, 3]\n"
     ]
    }
   ],
   "source": [
    "x = [1,2,3]\n",
    "def f():\n",
    "    x[0] = 0\n",
    "f()\n",
    "print(x)"
   ]
  },
  {
   "cell_type": "markdown",
   "metadata": {},
   "source": [
    "## 17. Python内置函数"
   ]
  },
  {
   "cell_type": "markdown",
   "metadata": {},
   "source": [
    "- **all()函数**"
   ]
  },
  {
   "cell_type": "markdown",
   "metadata": {},
   "source": [
    "用于判断可迭代参数中的所有元素是否都为True，如果是返回True，否则返回False"
   ]
  },
  {
   "cell_type": "markdown",
   "metadata": {},
   "source": [
    "**除了0，空，None，False以外都是True**"
   ]
  },
  {
   "cell_type": "code",
   "execution_count": 40,
   "metadata": {},
   "outputs": [
    {
     "data": {
      "text/plain": [
       "False"
      ]
     },
     "execution_count": 40,
     "metadata": {},
     "output_type": "execute_result"
    }
   ],
   "source": [
    "all([0,1,1])"
   ]
  },
  {
   "cell_type": "markdown",
   "metadata": {},
   "source": [
    "- **any()函数**"
   ]
  },
  {
   "cell_type": "markdown",
   "metadata": {},
   "source": [
    "用于判断可迭代参数中的所有元素是否都为False，如果是返回False，否则返回True"
   ]
  },
  {
   "cell_type": "code",
   "execution_count": 42,
   "metadata": {},
   "outputs": [
    {
     "data": {
      "text/plain": [
       "True"
      ]
     },
     "execution_count": 42,
     "metadata": {},
     "output_type": "execute_result"
    }
   ],
   "source": [
    "any([0,1,1])"
   ]
  },
  {
   "cell_type": "markdown",
   "metadata": {},
   "source": [
    "- **bin()函数**"
   ]
  },
  {
   "cell_type": "markdown",
   "metadata": {},
   "source": [
    "返回一个int整数的二进制表示"
   ]
  },
  {
   "cell_type": "code",
   "execution_count": 55,
   "metadata": {},
   "outputs": [
    {
     "data": {
      "text/plain": [
       "'0b11'"
      ]
     },
     "execution_count": 55,
     "metadata": {},
     "output_type": "execute_result"
    }
   ],
   "source": [
    "bin(3)    #0b表示二进制数"
   ]
  },
  {
   "cell_type": "markdown",
   "metadata": {},
   "source": [
    "- **chr()函数**"
   ]
  },
  {
   "cell_type": "markdown",
   "metadata": {},
   "source": [
    "由一个整数（ASCII码）作参数，返回对应的ASCII字符"
   ]
  },
  {
   "cell_type": "code",
   "execution_count": 28,
   "metadata": {},
   "outputs": [
    {
     "data": {
      "text/plain": [
       "'a'"
      ]
     },
     "execution_count": 28,
     "metadata": {},
     "output_type": "execute_result"
    }
   ],
   "source": [
    "chr(97)    #'a'的ASCII码=97"
   ]
  },
  {
   "cell_type": "markdown",
   "metadata": {},
   "source": [
    "- **dir()函数**"
   ]
  },
  {
   "cell_type": "markdown",
   "metadata": {},
   "source": [
    "不带参数时，返回当前范围内的变量、方法和定义的类型列表；  \n",
    "带参数时，返回参数的属性、方法列表"
   ]
  },
  {
   "cell_type": "code",
   "execution_count": 44,
   "metadata": {
    "scrolled": true
   },
   "outputs": [
    {
     "data": {
      "text/plain": [
       "['__add__',\n",
       " '__class__',\n",
       " '__contains__',\n",
       " '__delattr__',\n",
       " '__delitem__',\n",
       " '__dir__',\n",
       " '__doc__',\n",
       " '__eq__',\n",
       " '__format__',\n",
       " '__ge__',\n",
       " '__getattribute__',\n",
       " '__getitem__',\n",
       " '__gt__',\n",
       " '__hash__',\n",
       " '__iadd__',\n",
       " '__imul__',\n",
       " '__init__',\n",
       " '__init_subclass__',\n",
       " '__iter__',\n",
       " '__le__',\n",
       " '__len__',\n",
       " '__lt__',\n",
       " '__mul__',\n",
       " '__ne__',\n",
       " '__new__',\n",
       " '__reduce__',\n",
       " '__reduce_ex__',\n",
       " '__repr__',\n",
       " '__reversed__',\n",
       " '__rmul__',\n",
       " '__setattr__',\n",
       " '__setitem__',\n",
       " '__sizeof__',\n",
       " '__str__',\n",
       " '__subclasshook__',\n",
       " 'append',\n",
       " 'clear',\n",
       " 'copy',\n",
       " 'count',\n",
       " 'extend',\n",
       " 'index',\n",
       " 'insert',\n",
       " 'pop',\n",
       " 'remove',\n",
       " 'reverse',\n",
       " 'sort']"
      ]
     },
     "execution_count": 44,
     "metadata": {},
     "output_type": "execute_result"
    }
   ],
   "source": [
    "dir(list())"
   ]
  },
  {
   "cell_type": "markdown",
   "metadata": {},
   "source": [
    "- **divmod()函数**"
   ]
  },
  {
   "cell_type": "markdown",
   "metadata": {},
   "source": [
    "接收两个数字类型参数，返回一个包含商和余数的元组"
   ]
  },
  {
   "cell_type": "code",
   "execution_count": 53,
   "metadata": {},
   "outputs": [
    {
     "data": {
      "text/plain": [
       "(3, 1)"
      ]
     },
     "execution_count": 53,
     "metadata": {},
     "output_type": "execute_result"
    }
   ],
   "source": [
    "divmod(10,3)"
   ]
  },
  {
   "cell_type": "markdown",
   "metadata": {},
   "source": [
    "- **enumerate()函数**"
   ]
  },
  {
   "cell_type": "markdown",
   "metadata": {},
   "source": [
    "- **eval()函数**"
   ]
  },
  {
   "cell_type": "markdown",
   "metadata": {},
   "source": [
    "执行一个字符串表达式，并返回表达式的值"
   ]
  },
  {
   "cell_type": "code",
   "execution_count": 3,
   "metadata": {},
   "outputs": [
    {
     "name": "stdout",
     "output_type": "stream",
     "text": [
      "14\n",
      "123\n"
     ]
    }
   ],
   "source": [
    "x = 7\n",
    "print(eval('x*2'))\n",
    "\n",
    "print(eval('123'))   # 去掉字符串的引号，转换为数字"
   ]
  },
  {
   "cell_type": "code",
   "execution_count": 11,
   "metadata": {},
   "outputs": [
    {
     "name": "stdout",
     "output_type": "stream",
     "text": [
      "1,2\n",
      "1 2\n"
     ]
    }
   ],
   "source": [
    "a,b = eval(input())  # 直接提取多个输入值（用逗号隔开）\n",
    "print(a,b)"
   ]
  },
  {
   "cell_type": "markdown",
   "metadata": {},
   "source": [
    "- **filter()函数**"
   ]
  },
  {
   "cell_type": "markdown",
   "metadata": {},
   "source": [
    "用于过滤序列，过滤掉不符合条件的元素，返回一个迭代器对象  \n",
    "filter(function, iterable): funciton-判断函数；iterable-可迭代对象"
   ]
  },
  {
   "cell_type": "code",
   "execution_count": 1,
   "metadata": {},
   "outputs": [
    {
     "data": {
      "text/plain": [
       "[1, 3]"
      ]
     },
     "execution_count": 1,
     "metadata": {},
     "output_type": "execute_result"
    }
   ],
   "source": [
    "def is_odd(n):\n",
    "    return n%2 == 1\n",
    "nums = [1,2,3,4]\n",
    "list(filter(is_odd, nums))"
   ]
  },
  {
   "cell_type": "markdown",
   "metadata": {},
   "source": [
    "- **format()函数**"
   ]
  },
  {
   "cell_type": "markdown",
   "metadata": {},
   "source": [
    "见11.1"
   ]
  },
  {
   "cell_type": "markdown",
   "metadata": {},
   "source": [
    "- **frozenset()函数**"
   ]
  },
  {
   "cell_type": "markdown",
   "metadata": {},
   "source": [
    "返回一个冻结的集合，冻结后不能添加或删除元素"
   ]
  },
  {
   "cell_type": "code",
   "execution_count": 33,
   "metadata": {},
   "outputs": [
    {
     "data": {
      "text/plain": [
       "frozenset({'a', 'b', 'c'})"
      ]
     },
     "execution_count": 33,
     "metadata": {},
     "output_type": "execute_result"
    }
   ],
   "source": [
    "frozenset('abc')"
   ]
  },
  {
   "cell_type": "markdown",
   "metadata": {},
   "source": [
    "- **getattr()函数**"
   ]
  },
  {
   "cell_type": "markdown",
   "metadata": {},
   "source": [
    "返回一个对象的属性值"
   ]
  },
  {
   "cell_type": "code",
   "execution_count": 53,
   "metadata": {},
   "outputs": [
    {
     "name": "stdout",
     "output_type": "stream",
     "text": [
      "1\n"
     ]
    }
   ],
   "source": [
    "class A:\n",
    "    num = 1 \n",
    "a = A\n",
    "c1 = getattr(a, 'num')\n",
    "print(c1)"
   ]
  },
  {
   "cell_type": "markdown",
   "metadata": {},
   "source": [
    "- **input()函数**"
   ]
  },
  {
   "cell_type": "markdown",
   "metadata": {},
   "source": [
    "见11.2"
   ]
  },
  {
   "cell_type": "markdown",
   "metadata": {},
   "source": [
    "- **isinstance()函数**"
   ]
  },
  {
   "cell_type": "markdown",
   "metadata": {},
   "source": [
    "判断一个对象是否是一个已知的类型"
   ]
  },
  {
   "cell_type": "code",
   "execution_count": 21,
   "metadata": {},
   "outputs": [
    {
     "data": {
      "text/plain": [
       "True"
      ]
     },
     "execution_count": 21,
     "metadata": {},
     "output_type": "execute_result"
    }
   ],
   "source": [
    "a = 2\n",
    "isinstance(a, (int, float, str))         # 是元组中的一个返回True"
   ]
  },
  {
   "cell_type": "markdown",
   "metadata": {},
   "source": [
    "- 类型可以是int, float, bool, complex, str, list, dict, set, tuple\n",
    "- 子类和父类被判断为同一类型"
   ]
  },
  {
   "cell_type": "markdown",
   "metadata": {},
   "source": [
    "- **map()函数**"
   ]
  },
  {
   "cell_type": "markdown",
   "metadata": {},
   "source": [
    "见9.2"
   ]
  },
  {
   "cell_type": "markdown",
   "metadata": {},
   "source": [
    "- **ord()函数**"
   ]
  },
  {
   "cell_type": "markdown",
   "metadata": {},
   "source": [
    "是chr()函数的配对函数，以一个字符串（unicode字符）作为参数，返回其ASCII数值"
   ]
  },
  {
   "cell_type": "code",
   "execution_count": 2,
   "metadata": {},
   "outputs": [
    {
     "data": {
      "text/plain": [
       "97"
      ]
     },
     "execution_count": 2,
     "metadata": {},
     "output_type": "execute_result"
    }
   ],
   "source": [
    "ord('a')"
   ]
  },
  {
   "cell_type": "markdown",
   "metadata": {},
   "source": [
    "- **property()函数**"
   ]
  },
  {
   "cell_type": "markdown",
   "metadata": {},
   "source": [
    "用来将类内的一个方法变成属性调用"
   ]
  },
  {
   "cell_type": "code",
   "execution_count": 25,
   "metadata": {},
   "outputs": [
    {
     "data": {
      "text/plain": [
       "1"
      ]
     },
     "execution_count": 25,
     "metadata": {},
     "output_type": "execute_result"
    }
   ],
   "source": [
    "class data:\n",
    "    def __init__(self):\n",
    "        self._image = 1\n",
    "    @property\n",
    "    def image(self):\n",
    "        return self._image\n",
    "d = data()\n",
    "d.image        # 直接调用image方法来访问_image变量，从而避免_image变量被用户改变"
   ]
  },
  {
   "cell_type": "markdown",
   "metadata": {},
   "source": [
    "- **range()函数**"
   ]
  },
  {
   "cell_type": "markdown",
   "metadata": {},
   "source": [
    "返回一个可迭代对象（不是列表）  \n",
    "range(start, stop, step)：  \n",
    "从start（含）开始计数，步长为step，到stop（不含）结束"
   ]
  },
  {
   "cell_type": "code",
   "execution_count": 66,
   "metadata": {},
   "outputs": [
    {
     "data": {
      "text/plain": [
       "[0, 2, 4]"
      ]
     },
     "execution_count": 66,
     "metadata": {},
     "output_type": "execute_result"
    }
   ],
   "source": [
    "a = range(0,6,2)\n",
    "list(a)"
   ]
  },
  {
   "cell_type": "markdown",
   "metadata": {},
   "source": [
    "- **reversed()函数**"
   ]
  },
  {
   "cell_type": "markdown",
   "metadata": {},
   "source": [
    "返回一个反转的迭代器"
   ]
  },
  {
   "cell_type": "code",
   "execution_count": 76,
   "metadata": {},
   "outputs": [
    {
     "data": {
      "text/plain": [
       "'cba'"
      ]
     },
     "execution_count": 76,
     "metadata": {},
     "output_type": "execute_result"
    }
   ],
   "source": [
    "''.join(list(reversed('abc')))"
   ]
  },
  {
   "cell_type": "markdown",
   "metadata": {},
   "source": [
    "- **round()函数**"
   ]
  },
  {
   "cell_type": "markdown",
   "metadata": {},
   "source": [
    "返回浮点数的四舍五入值"
   ]
  },
  {
   "cell_type": "code",
   "execution_count": 84,
   "metadata": {},
   "outputs": [
    {
     "name": "stdout",
     "output_type": "stream",
     "text": [
      "2.4\n",
      "-2.4\n",
      "2.67\n"
     ]
    }
   ],
   "source": [
    "print(round(2.41, 1))    #保留一位小数\n",
    "print(round(-2.38, 1))\n",
    "print(round(2.675,2))    # 浮点数的近似表示使2.675比真实值小一点"
   ]
  },
  {
   "cell_type": "markdown",
   "metadata": {},
   "source": [
    "- **slice()函数**"
   ]
  },
  {
   "cell_type": "markdown",
   "metadata": {},
   "source": [
    "用于创建切片对象：  \n",
    "slice(start, stop, step)"
   ]
  },
  {
   "cell_type": "code",
   "execution_count": 39,
   "metadata": {},
   "outputs": [
    {
     "name": "stdout",
     "output_type": "stream",
     "text": [
      "[1, 3, 5]\n"
     ]
    }
   ],
   "source": [
    "x = [1,2,3,4,5]\n",
    "myslice = slice(0, 5, 2)\n",
    "print(x[myslice])"
   ]
  },
  {
   "cell_type": "markdown",
   "metadata": {},
   "source": [
    "- **sorted()函数**"
   ]
  },
  {
   "cell_type": "markdown",
   "metadata": {},
   "source": [
    "对所有可迭代对象进行排序操作，返回一个重新排序的**列表**  \n",
    "（sort是list类型的方法）"
   ]
  },
  {
   "cell_type": "code",
   "execution_count": 49,
   "metadata": {},
   "outputs": [
    {
     "data": {
      "text/plain": [
       "['c', 'b', 'a']"
      ]
     },
     "execution_count": 49,
     "metadata": {},
     "output_type": "execute_result"
    }
   ],
   "source": [
    "s = 'acb'\n",
    "sorted(s, reverse = True)   # reverse = True为降序，默认为False升序"
   ]
  },
  {
   "cell_type": "code",
   "execution_count": 50,
   "metadata": {},
   "outputs": [
    {
     "data": {
      "text/plain": [
       "[{'name': 'bob', 'score': 18},\n",
       " {'name': 'darl', 'score': 28},\n",
       " {'name': 'alice', 'score': 38}]"
      ]
     },
     "execution_count": 50,
     "metadata": {},
     "output_type": "execute_result"
    }
   ],
   "source": [
    "d1 = [{'name':'alice', 'score':38}, {'name':'bob', 'score':18}, \n",
    "      {'name':'darl', 'score':28}]\n",
    "sorted(d1, key=lambda x:(x['score'], x['name']))        # key选择排序对象"
   ]
  },
  {
   "cell_type": "markdown",
   "metadata": {},
   "source": [
    "- **super()函数**"
   ]
  },
  {
   "cell_type": "markdown",
   "metadata": {},
   "source": [
    "用来调用父类的一个方法  \n",
    "super(parent_class, son_class).method"
   ]
  },
  {
   "cell_type": "code",
   "execution_count": 50,
   "metadata": {},
   "outputs": [
    {
     "name": "stdout",
     "output_type": "stream",
     "text": [
      "3\n",
      "3\n"
     ]
    }
   ],
   "source": [
    "class A:\n",
    "    def add(self, x):\n",
    "        y = x+1\n",
    "        print(y)\n",
    "class B(A):\n",
    "    def add(self, x):\n",
    "        super().add(x)        # 在子类定义中可以直接用super()\n",
    "b = B()\n",
    "b.add(2)\n",
    "super(B, b).add(2)           # 定义子类实例后调用父类方法"
   ]
  },
  {
   "cell_type": "markdown",
   "metadata": {},
   "source": [
    "- **type()函数**"
   ]
  },
  {
   "cell_type": "markdown",
   "metadata": {},
   "source": [
    "返回对象类型"
   ]
  },
  {
   "cell_type": "code",
   "execution_count": 27,
   "metadata": {},
   "outputs": [
    {
     "data": {
      "text/plain": [
       "str"
      ]
     },
     "execution_count": 27,
     "metadata": {},
     "output_type": "execute_result"
    }
   ],
   "source": [
    "type('a')"
   ]
  },
  {
   "cell_type": "markdown",
   "metadata": {},
   "source": [
    "- **vars()函数**"
   ]
  },
  {
   "cell_type": "markdown",
   "metadata": {},
   "source": [
    "返回对象的属性和属性值的字典对象"
   ]
  },
  {
   "cell_type": "code",
   "execution_count": 38,
   "metadata": {},
   "outputs": [
    {
     "data": {
      "text/plain": [
       "{'num1': 1, 'num2': 'a'}"
      ]
     },
     "execution_count": 38,
     "metadata": {},
     "output_type": "execute_result"
    }
   ],
   "source": [
    "class data:\n",
    "    def __init__(self, a, b):\n",
    "        self.num1 = a\n",
    "        self.num2 = b\n",
    "d = data(1, 'a')\n",
    "vars(d)"
   ]
  },
  {
   "cell_type": "markdown",
   "metadata": {},
   "source": [
    "- **zip()函数**"
   ]
  },
  {
   "cell_type": "markdown",
   "metadata": {},
   "source": [
    "见7.1"
   ]
  },
  {
   "cell_type": "markdown",
   "metadata": {},
   "source": [
    "## 18. Python日期与时间"
   ]
  },
  {
   "cell_type": "markdown",
   "metadata": {},
   "source": [
    "Python提供了time和calendar模块用于格式化日期和时间"
   ]
  },
  {
   "cell_type": "markdown",
   "metadata": {},
   "source": [
    "- **时间元组**"
   ]
  },
  {
   "cell_type": "markdown",
   "metadata": {},
   "source": [
    "一个由9位数字组成的元组（struct_time）"
   ]
  },
  {
   "attachments": {
    "image.png": {
     "image/png": "[encoded data removed]"
    }
   },
   "cell_type": "markdown",
   "metadata": {},
   "source": [
    "![image.png](attachment:image.png)"
   ]
  },
  {
   "cell_type": "markdown",
   "metadata": {},
   "source": [
    "- **获取当前时间**"
   ]
  },
  {
   "cell_type": "code",
   "execution_count": 9,
   "metadata": {},
   "outputs": [
    {
     "name": "stdout",
     "output_type": "stream",
     "text": [
      "1631515411.1299996\n",
      "time.struct_time(tm_year=2021, tm_mon=9, tm_mday=13, tm_hour=14, tm_min=43, tm_sec=31, tm_wday=0, tm_yday=256, tm_isdst=0)\n",
      "1631515411.0\n"
     ]
    }
   ],
   "source": [
    "import time\n",
    "print(time.time())      # 获取当前时间戳，表示从1970.1.1午夜开始经历了多少秒\n",
    "print(time.localtime(time.time()))   # 将时间戳转换为时间元组\n",
    "print(time.mktime(time.localtime(time.time())))     # 将时间元组转换为时间戳"
   ]
  },
  {
   "cell_type": "markdown",
   "metadata": {},
   "source": [
    "- **格式化时间**"
   ]
  },
  {
   "cell_type": "code",
   "execution_count": 17,
   "metadata": {},
   "outputs": [
    {
     "name": "stdout",
     "output_type": "stream",
     "text": [
      "Mon Sep 13 14:49:27 2021\n",
      "2021-09-13 14:49:27\n",
      "time.struct_time(tm_year=2016, tm_mon=3, tm_mday=28, tm_hour=22, tm_min=24, tm_sec=24, tm_wday=5, tm_yday=88, tm_isdst=-1)\n"
     ]
    }
   ],
   "source": [
    "print(time.asctime(time.localtime(time.time())))    # 输出asctime格式时间\n",
    "print(time.strftime(\"%Y-%m-%d %H:%M:%S\", time.localtime()))    # 按给定格式输出时间\n",
    "date = \"Sat Mar 28 22:24:24 2016\"\n",
    "print(time.strptime(date,\"%a %b %d %H:%M:%S %Y\"))   # 将给定格式的时间字符串转换为时间元组"
   ]
  },
  {
   "attachments": {
    "image.png": {
     "image/png": "[encoded data removed]"
    }
   },
   "cell_type": "markdown",
   "metadata": {},
   "source": [
    "**日期格式化符号**  \n",
    "![image.png](attachment:image.png)"
   ]
  },
  {
   "cell_type": "markdown",
   "metadata": {},
   "source": [
    "- **显示程序运行进度的小demo**"
   ]
  },
  {
   "cell_type": "code",
   "execution_count": 19,
   "metadata": {},
   "outputs": [
    {
     "name": "stdout",
     "output_type": "stream",
     "text": [
      "-----------执行开始----------\n",
      "100%[**************************************************->]5.44s\n",
      "-----------执行结果----------\n"
     ]
    }
   ],
   "source": [
    "import time\n",
    "\n",
    "scale = 50 \n",
    "\n",
    "print(\"执行开始\".center(scale//2,\"-\"))  # .center() 控制输出的样式，宽度为 25//2，即 22，汉字居中，两侧填充 -\n",
    "\n",
    "start = time.perf_counter() # 调用一次 perf_counter()，从计算机系统里随机选一个时间点A，计算其距离当前时间点B1有多少秒。当第二次调用该函数时，默认从第一次调用的时间点A算起，距离当前时间点B2有多少秒。两个函数取差，即实现从时间点B1到B2的计时功能。\n",
    "for i in range(scale+1):   \n",
    "    a = '*' * i             # i 个长度的 * 符号\n",
    "    b = '.' * (scale-i)  # scale-i） 个长度的 . 符号。符号 * 和 . 总长度为50 \n",
    "    c = (i/scale)*100  # 显示当前进度，百分之多少\n",
    "    dur = time.perf_counter() - start    # 计时，计算进度条走到某一百分比的用时\n",
    "    print(\"\\r{:^3.0f}%[{}->{}]{:.2f}s\".format(c,a,b,dur),end='')  # \\r用来在每次输出完成后，将光标移至行首，这样保证进度条始终在同一行输出，即在一行不断刷新的效果；{:^3.0f}，输出格式为居中，占3位，小数点后0位，浮点型数，对应输出的数为c；{}，对应输出的数为a；{}，对应输出的数为b；{:.2f}，输出有两位小数的浮点数，对应输出的数为dur；end=''，用来保证不换行，不加这句默认换行。\n",
    "    time.sleep(0.1)     # 在输出下一个百分之几的进度前，停止0.1秒\n",
    "print(\"\\n\"+\"执行结果\".center(scale//2,'-'))"
   ]
  }
 ],
 "metadata": {
  "kernelspec": {
   "display_name": "Python 3",
   "language": "python",
   "name": "python3"
  },
  "language_info": {
   "codemirror_mode": {
    "name": "ipython",
    "version": 3
   },
   "file_extension": ".py",
   "mimetype": "text/x-python",
   "name": "python",
   "nbconvert_exporter": "python",
   "pygments_lexer": "ipython3",
   "version": "3.8.8"
  },
  "toc-autonumbering": false,
  "toc-showmarkdowntxt": false,
  "toc-showtags": false
 },
 "nbformat": 4,
 "nbformat_minor": 4
}
